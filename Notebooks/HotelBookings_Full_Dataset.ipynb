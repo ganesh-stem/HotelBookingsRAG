{
 "cells": [
  {
   "cell_type": "code",
   "execution_count": 1,
   "metadata": {
    "execution": {
     "iopub.execute_input": "2025-03-28T11:27:13.512612Z",
     "iopub.status.busy": "2025-03-28T11:27:13.512278Z",
     "iopub.status.idle": "2025-03-28T11:27:13.517736Z",
     "shell.execute_reply": "2025-03-28T11:27:13.516863Z",
     "shell.execute_reply.started": "2025-03-28T11:27:13.512581Z"
    },
    "trusted": true
   },
   "outputs": [
    {
     "name": "stdout",
     "output_type": "stream",
     "text": [
      "Begin\n"
     ]
    }
   ],
   "source": [
    "print('Begin')"
   ]
  },
  {
   "cell_type": "code",
   "execution_count": 2,
   "metadata": {
    "_cell_guid": "02db2603-955d-441a-b09c-8dec0f6b9933",
    "_uuid": "e40f32d3-978d-4abb-b1d4-d32980edfaaa",
    "collapsed": false,
    "execution": {
     "iopub.execute_input": "2025-03-28T11:27:13.530707Z",
     "iopub.status.busy": "2025-03-28T11:27:13.530507Z",
     "iopub.status.idle": "2025-03-28T11:27:27.998037Z",
     "shell.execute_reply": "2025-03-28T11:27:27.996852Z",
     "shell.execute_reply.started": "2025-03-28T11:27:13.530690Z"
    },
    "jupyter": {
     "outputs_hidden": false
    },
    "trusted": true
   },
   "outputs": [
    {
     "name": "stdout",
     "output_type": "stream",
     "text": [
      "Collecting faiss-cpu\n",
      "  Downloading faiss_cpu-1.10.0-cp310-cp310-manylinux_2_28_x86_64.whl.metadata (4.4 kB)\n",
      "Requirement already satisfied: numpy<3.0,>=1.25.0 in /usr/local/lib/python3.10/dist-packages (from faiss-cpu) (1.26.4)\n",
      "Requirement already satisfied: packaging in /usr/local/lib/python3.10/dist-packages (from faiss-cpu) (24.2)\n",
      "Requirement already satisfied: mkl_fft in /usr/local/lib/python3.10/dist-packages (from numpy<3.0,>=1.25.0->faiss-cpu) (1.3.8)\n",
      "Requirement already satisfied: mkl_random in /usr/local/lib/python3.10/dist-packages (from numpy<3.0,>=1.25.0->faiss-cpu) (1.2.4)\n",
      "Requirement already satisfied: mkl_umath in /usr/local/lib/python3.10/dist-packages (from numpy<3.0,>=1.25.0->faiss-cpu) (0.1.1)\n",
      "Requirement already satisfied: mkl in /usr/local/lib/python3.10/dist-packages (from numpy<3.0,>=1.25.0->faiss-cpu) (2025.0.1)\n",
      "Requirement already satisfied: tbb4py in /usr/local/lib/python3.10/dist-packages (from numpy<3.0,>=1.25.0->faiss-cpu) (2022.0.0)\n",
      "Requirement already satisfied: mkl-service in /usr/local/lib/python3.10/dist-packages (from numpy<3.0,>=1.25.0->faiss-cpu) (2.4.1)\n",
      "Requirement already satisfied: intel-openmp>=2024 in /usr/local/lib/python3.10/dist-packages (from mkl->numpy<3.0,>=1.25.0->faiss-cpu) (2024.2.0)\n",
      "Requirement already satisfied: tbb==2022.* in /usr/local/lib/python3.10/dist-packages (from mkl->numpy<3.0,>=1.25.0->faiss-cpu) (2022.0.0)\n",
      "Requirement already satisfied: tcmlib==1.* in /usr/local/lib/python3.10/dist-packages (from tbb==2022.*->mkl->numpy<3.0,>=1.25.0->faiss-cpu) (1.2.0)\n",
      "Requirement already satisfied: intel-cmplr-lib-rt in /usr/local/lib/python3.10/dist-packages (from mkl_umath->numpy<3.0,>=1.25.0->faiss-cpu) (2024.2.0)\n",
      "Requirement already satisfied: intel-cmplr-lib-ur==2024.2.0 in /usr/local/lib/python3.10/dist-packages (from intel-openmp>=2024->mkl->numpy<3.0,>=1.25.0->faiss-cpu) (2024.2.0)\n",
      "Downloading faiss_cpu-1.10.0-cp310-cp310-manylinux_2_28_x86_64.whl (30.7 MB)\n",
      "\u001b[2K   \u001b[90m━━━━━━━━━━━━━━━━━━━━━━━━━━━━━━━━━━━━━━━━\u001b[0m \u001b[32m30.7/30.7 MB\u001b[0m \u001b[31m59.1 MB/s\u001b[0m eta \u001b[36m0:00:00\u001b[0m:00:01\u001b[0m00:01\u001b[0m\n",
      "\u001b[?25hInstalling collected packages: faiss-cpu\n",
      "Successfully installed faiss-cpu-1.10.0\n",
      "Collecting bitsandbytes\n",
      "  Downloading bitsandbytes-0.45.4-py3-none-manylinux_2_24_x86_64.whl.metadata (5.0 kB)\n",
      "Requirement already satisfied: torch<3,>=2.0 in /usr/local/lib/python3.10/dist-packages (from bitsandbytes) (2.5.1+cu121)\n",
      "Requirement already satisfied: numpy>=1.17 in /usr/local/lib/python3.10/dist-packages (from bitsandbytes) (1.26.4)\n",
      "Requirement already satisfied: mkl_fft in /usr/local/lib/python3.10/dist-packages (from numpy>=1.17->bitsandbytes) (1.3.8)\n",
      "Requirement already satisfied: mkl_random in /usr/local/lib/python3.10/dist-packages (from numpy>=1.17->bitsandbytes) (1.2.4)\n",
      "Requirement already satisfied: mkl_umath in /usr/local/lib/python3.10/dist-packages (from numpy>=1.17->bitsandbytes) (0.1.1)\n",
      "Requirement already satisfied: mkl in /usr/local/lib/python3.10/dist-packages (from numpy>=1.17->bitsandbytes) (2025.0.1)\n",
      "Requirement already satisfied: tbb4py in /usr/local/lib/python3.10/dist-packages (from numpy>=1.17->bitsandbytes) (2022.0.0)\n",
      "Requirement already satisfied: mkl-service in /usr/local/lib/python3.10/dist-packages (from numpy>=1.17->bitsandbytes) (2.4.1)\n",
      "Requirement already satisfied: filelock in /usr/local/lib/python3.10/dist-packages (from torch<3,>=2.0->bitsandbytes) (3.17.0)\n",
      "Requirement already satisfied: typing-extensions>=4.8.0 in /usr/local/lib/python3.10/dist-packages (from torch<3,>=2.0->bitsandbytes) (4.12.2)\n",
      "Requirement already satisfied: networkx in /usr/local/lib/python3.10/dist-packages (from torch<3,>=2.0->bitsandbytes) (3.4.2)\n",
      "Requirement already satisfied: jinja2 in /usr/local/lib/python3.10/dist-packages (from torch<3,>=2.0->bitsandbytes) (3.1.4)\n",
      "Requirement already satisfied: fsspec in /usr/local/lib/python3.10/dist-packages (from torch<3,>=2.0->bitsandbytes) (2024.12.0)\n",
      "Requirement already satisfied: sympy==1.13.1 in /usr/local/lib/python3.10/dist-packages (from torch<3,>=2.0->bitsandbytes) (1.13.1)\n",
      "Requirement already satisfied: mpmath<1.4,>=1.1.0 in /usr/local/lib/python3.10/dist-packages (from sympy==1.13.1->torch<3,>=2.0->bitsandbytes) (1.3.0)\n",
      "Requirement already satisfied: MarkupSafe>=2.0 in /usr/local/lib/python3.10/dist-packages (from jinja2->torch<3,>=2.0->bitsandbytes) (3.0.2)\n",
      "Requirement already satisfied: intel-openmp>=2024 in /usr/local/lib/python3.10/dist-packages (from mkl->numpy>=1.17->bitsandbytes) (2024.2.0)\n",
      "Requirement already satisfied: tbb==2022.* in /usr/local/lib/python3.10/dist-packages (from mkl->numpy>=1.17->bitsandbytes) (2022.0.0)\n",
      "Requirement already satisfied: tcmlib==1.* in /usr/local/lib/python3.10/dist-packages (from tbb==2022.*->mkl->numpy>=1.17->bitsandbytes) (1.2.0)\n",
      "Requirement already satisfied: intel-cmplr-lib-rt in /usr/local/lib/python3.10/dist-packages (from mkl_umath->numpy>=1.17->bitsandbytes) (2024.2.0)\n",
      "Requirement already satisfied: intel-cmplr-lib-ur==2024.2.0 in /usr/local/lib/python3.10/dist-packages (from intel-openmp>=2024->mkl->numpy>=1.17->bitsandbytes) (2024.2.0)\n",
      "Downloading bitsandbytes-0.45.4-py3-none-manylinux_2_24_x86_64.whl (76.0 MB)\n",
      "\u001b[2K   \u001b[90m━━━━━━━━━━━━━━━━━━━━━━━━━━━━━━━━━━━━━━━━\u001b[0m \u001b[32m76.0/76.0 MB\u001b[0m \u001b[31m22.0 MB/s\u001b[0m eta \u001b[36m0:00:00\u001b[0m:00:01\u001b[0m00:01\u001b[0m\n",
      "\u001b[?25hInstalling collected packages: bitsandbytes\n",
      "Successfully installed bitsandbytes-0.45.4\n"
     ]
    }
   ],
   "source": [
    "!pip install faiss-cpu\n",
    "!pip install -U bitsandbytes"
   ]
  },
  {
   "cell_type": "code",
   "execution_count": 3,
   "metadata": {
    "execution": {
     "iopub.execute_input": "2025-03-28T11:27:27.999903Z",
     "iopub.status.busy": "2025-03-28T11:27:27.999557Z",
     "iopub.status.idle": "2025-03-28T11:27:29.155646Z",
     "shell.execute_reply": "2025-03-28T11:27:29.154999Z",
     "shell.execute_reply.started": "2025-03-28T11:27:27.999877Z"
    },
    "trusted": true
   },
   "outputs": [],
   "source": [
    "import pandas as pd\n",
    "import numpy as np\n",
    "import matplotlib.pyplot as plt\n",
    "import seaborn as sns\n",
    "from datetime import datetime\n",
    "import calendar\n",
    "import warnings\n",
    "warnings.filterwarnings('ignore')"
   ]
  },
  {
   "cell_type": "code",
   "execution_count": 4,
   "metadata": {
    "execution": {
     "iopub.execute_input": "2025-03-28T11:27:29.157213Z",
     "iopub.status.busy": "2025-03-28T11:27:29.156834Z",
     "iopub.status.idle": "2025-03-28T11:28:04.499432Z",
     "shell.execute_reply": "2025-03-28T11:28:04.498675Z",
     "shell.execute_reply.started": "2025-03-28T11:27:29.157190Z"
    },
    "trusted": true
   },
   "outputs": [],
   "source": [
    "import os\n",
    "from datetime import datetime\n",
    "from sentence_transformers import SentenceTransformer\n",
    "import faiss\n",
    "import torch\n",
    "from transformers import AutoTokenizer, AutoModelForCausalLM, pipeline\n",
    "import re\n",
    "from typing import List, Dict, Any, Tuple\n",
    "from huggingface_hub import login"
   ]
  },
  {
   "cell_type": "code",
   "execution_count": null,
   "metadata": {
    "execution": {
     "iopub.execute_input": "2025-03-28T11:28:04.501164Z",
     "iopub.status.busy": "2025-03-28T11:28:04.500616Z",
     "iopub.status.idle": "2025-03-28T11:28:04.603385Z",
     "shell.execute_reply": "2025-03-28T11:28:04.602750Z",
     "shell.execute_reply.started": "2025-03-28T11:28:04.501128Z"
    },
    "trusted": true
   },
   "outputs": [],
   "source": [
    "login(\"<hugging_face_token>\")"
   ]
  },
  {
   "cell_type": "code",
   "execution_count": 6,
   "metadata": {
    "execution": {
     "iopub.execute_input": "2025-03-28T11:28:04.604371Z",
     "iopub.status.busy": "2025-03-28T11:28:04.604149Z",
     "iopub.status.idle": "2025-03-28T11:28:04.607812Z",
     "shell.execute_reply": "2025-03-28T11:28:04.607032Z",
     "shell.execute_reply.started": "2025-03-28T11:28:04.604348Z"
    },
    "trusted": true
   },
   "outputs": [],
   "source": [
    "pd.set_option('display.max_columns', None)"
   ]
  },
  {
   "cell_type": "code",
   "execution_count": 7,
   "metadata": {
    "execution": {
     "iopub.execute_input": "2025-03-28T11:28:04.608929Z",
     "iopub.status.busy": "2025-03-28T11:28:04.608640Z",
     "iopub.status.idle": "2025-03-28T11:28:05.183814Z",
     "shell.execute_reply": "2025-03-28T11:28:05.182839Z",
     "shell.execute_reply.started": "2025-03-28T11:28:04.608908Z"
    },
    "trusted": true
   },
   "outputs": [
    {
     "data": {
      "text/html": [
       "<div>\n",
       "<style scoped>\n",
       "    .dataframe tbody tr th:only-of-type {\n",
       "        vertical-align: middle;\n",
       "    }\n",
       "\n",
       "    .dataframe tbody tr th {\n",
       "        vertical-align: top;\n",
       "    }\n",
       "\n",
       "    .dataframe thead th {\n",
       "        text-align: right;\n",
       "    }\n",
       "</style>\n",
       "<table border=\"1\" class=\"dataframe\">\n",
       "  <thead>\n",
       "    <tr style=\"text-align: right;\">\n",
       "      <th></th>\n",
       "      <th>hotel</th>\n",
       "      <th>is_canceled</th>\n",
       "      <th>lead_time</th>\n",
       "      <th>arrival_date_year</th>\n",
       "      <th>arrival_date_month</th>\n",
       "      <th>arrival_date_week_number</th>\n",
       "      <th>arrival_date_day_of_month</th>\n",
       "      <th>stays_in_weekend_nights</th>\n",
       "      <th>stays_in_week_nights</th>\n",
       "      <th>adults</th>\n",
       "      <th>children</th>\n",
       "      <th>babies</th>\n",
       "      <th>meal</th>\n",
       "      <th>country</th>\n",
       "      <th>market_segment</th>\n",
       "      <th>distribution_channel</th>\n",
       "      <th>is_repeated_guest</th>\n",
       "      <th>previous_cancellations</th>\n",
       "      <th>previous_bookings_not_canceled</th>\n",
       "      <th>reserved_room_type</th>\n",
       "      <th>assigned_room_type</th>\n",
       "      <th>booking_changes</th>\n",
       "      <th>deposit_type</th>\n",
       "      <th>agent</th>\n",
       "      <th>company</th>\n",
       "      <th>days_in_waiting_list</th>\n",
       "      <th>customer_type</th>\n",
       "      <th>adr</th>\n",
       "      <th>required_car_parking_spaces</th>\n",
       "      <th>total_of_special_requests</th>\n",
       "      <th>reservation_status</th>\n",
       "      <th>reservation_status_date</th>\n",
       "    </tr>\n",
       "  </thead>\n",
       "  <tbody>\n",
       "    <tr>\n",
       "      <th>0</th>\n",
       "      <td>Resort Hotel</td>\n",
       "      <td>0</td>\n",
       "      <td>342</td>\n",
       "      <td>2015</td>\n",
       "      <td>July</td>\n",
       "      <td>27</td>\n",
       "      <td>1</td>\n",
       "      <td>0</td>\n",
       "      <td>0</td>\n",
       "      <td>2</td>\n",
       "      <td>0.0</td>\n",
       "      <td>0</td>\n",
       "      <td>BB</td>\n",
       "      <td>PRT</td>\n",
       "      <td>Direct</td>\n",
       "      <td>Direct</td>\n",
       "      <td>0</td>\n",
       "      <td>0</td>\n",
       "      <td>0</td>\n",
       "      <td>C</td>\n",
       "      <td>C</td>\n",
       "      <td>3</td>\n",
       "      <td>No Deposit</td>\n",
       "      <td>NaN</td>\n",
       "      <td>NaN</td>\n",
       "      <td>0</td>\n",
       "      <td>Transient</td>\n",
       "      <td>0.0</td>\n",
       "      <td>0</td>\n",
       "      <td>0</td>\n",
       "      <td>Check-Out</td>\n",
       "      <td>2015-07-01</td>\n",
       "    </tr>\n",
       "    <tr>\n",
       "      <th>1</th>\n",
       "      <td>Resort Hotel</td>\n",
       "      <td>0</td>\n",
       "      <td>737</td>\n",
       "      <td>2015</td>\n",
       "      <td>July</td>\n",
       "      <td>27</td>\n",
       "      <td>1</td>\n",
       "      <td>0</td>\n",
       "      <td>0</td>\n",
       "      <td>2</td>\n",
       "      <td>0.0</td>\n",
       "      <td>0</td>\n",
       "      <td>BB</td>\n",
       "      <td>PRT</td>\n",
       "      <td>Direct</td>\n",
       "      <td>Direct</td>\n",
       "      <td>0</td>\n",
       "      <td>0</td>\n",
       "      <td>0</td>\n",
       "      <td>C</td>\n",
       "      <td>C</td>\n",
       "      <td>4</td>\n",
       "      <td>No Deposit</td>\n",
       "      <td>NaN</td>\n",
       "      <td>NaN</td>\n",
       "      <td>0</td>\n",
       "      <td>Transient</td>\n",
       "      <td>0.0</td>\n",
       "      <td>0</td>\n",
       "      <td>0</td>\n",
       "      <td>Check-Out</td>\n",
       "      <td>2015-07-01</td>\n",
       "    </tr>\n",
       "    <tr>\n",
       "      <th>2</th>\n",
       "      <td>Resort Hotel</td>\n",
       "      <td>0</td>\n",
       "      <td>7</td>\n",
       "      <td>2015</td>\n",
       "      <td>July</td>\n",
       "      <td>27</td>\n",
       "      <td>1</td>\n",
       "      <td>0</td>\n",
       "      <td>1</td>\n",
       "      <td>1</td>\n",
       "      <td>0.0</td>\n",
       "      <td>0</td>\n",
       "      <td>BB</td>\n",
       "      <td>GBR</td>\n",
       "      <td>Direct</td>\n",
       "      <td>Direct</td>\n",
       "      <td>0</td>\n",
       "      <td>0</td>\n",
       "      <td>0</td>\n",
       "      <td>A</td>\n",
       "      <td>C</td>\n",
       "      <td>0</td>\n",
       "      <td>No Deposit</td>\n",
       "      <td>NaN</td>\n",
       "      <td>NaN</td>\n",
       "      <td>0</td>\n",
       "      <td>Transient</td>\n",
       "      <td>75.0</td>\n",
       "      <td>0</td>\n",
       "      <td>0</td>\n",
       "      <td>Check-Out</td>\n",
       "      <td>2015-07-02</td>\n",
       "    </tr>\n",
       "    <tr>\n",
       "      <th>3</th>\n",
       "      <td>Resort Hotel</td>\n",
       "      <td>0</td>\n",
       "      <td>13</td>\n",
       "      <td>2015</td>\n",
       "      <td>July</td>\n",
       "      <td>27</td>\n",
       "      <td>1</td>\n",
       "      <td>0</td>\n",
       "      <td>1</td>\n",
       "      <td>1</td>\n",
       "      <td>0.0</td>\n",
       "      <td>0</td>\n",
       "      <td>BB</td>\n",
       "      <td>GBR</td>\n",
       "      <td>Corporate</td>\n",
       "      <td>Corporate</td>\n",
       "      <td>0</td>\n",
       "      <td>0</td>\n",
       "      <td>0</td>\n",
       "      <td>A</td>\n",
       "      <td>A</td>\n",
       "      <td>0</td>\n",
       "      <td>No Deposit</td>\n",
       "      <td>304.0</td>\n",
       "      <td>NaN</td>\n",
       "      <td>0</td>\n",
       "      <td>Transient</td>\n",
       "      <td>75.0</td>\n",
       "      <td>0</td>\n",
       "      <td>0</td>\n",
       "      <td>Check-Out</td>\n",
       "      <td>2015-07-02</td>\n",
       "    </tr>\n",
       "    <tr>\n",
       "      <th>4</th>\n",
       "      <td>Resort Hotel</td>\n",
       "      <td>0</td>\n",
       "      <td>14</td>\n",
       "      <td>2015</td>\n",
       "      <td>July</td>\n",
       "      <td>27</td>\n",
       "      <td>1</td>\n",
       "      <td>0</td>\n",
       "      <td>2</td>\n",
       "      <td>2</td>\n",
       "      <td>0.0</td>\n",
       "      <td>0</td>\n",
       "      <td>BB</td>\n",
       "      <td>GBR</td>\n",
       "      <td>Online TA</td>\n",
       "      <td>TA/TO</td>\n",
       "      <td>0</td>\n",
       "      <td>0</td>\n",
       "      <td>0</td>\n",
       "      <td>A</td>\n",
       "      <td>A</td>\n",
       "      <td>0</td>\n",
       "      <td>No Deposit</td>\n",
       "      <td>240.0</td>\n",
       "      <td>NaN</td>\n",
       "      <td>0</td>\n",
       "      <td>Transient</td>\n",
       "      <td>98.0</td>\n",
       "      <td>0</td>\n",
       "      <td>1</td>\n",
       "      <td>Check-Out</td>\n",
       "      <td>2015-07-03</td>\n",
       "    </tr>\n",
       "  </tbody>\n",
       "</table>\n",
       "</div>"
      ],
      "text/plain": [
       "          hotel  is_canceled  lead_time  arrival_date_year arrival_date_month  \\\n",
       "0  Resort Hotel            0        342               2015               July   \n",
       "1  Resort Hotel            0        737               2015               July   \n",
       "2  Resort Hotel            0          7               2015               July   \n",
       "3  Resort Hotel            0         13               2015               July   \n",
       "4  Resort Hotel            0         14               2015               July   \n",
       "\n",
       "   arrival_date_week_number  arrival_date_day_of_month  \\\n",
       "0                        27                          1   \n",
       "1                        27                          1   \n",
       "2                        27                          1   \n",
       "3                        27                          1   \n",
       "4                        27                          1   \n",
       "\n",
       "   stays_in_weekend_nights  stays_in_week_nights  adults  children  babies  \\\n",
       "0                        0                     0       2       0.0       0   \n",
       "1                        0                     0       2       0.0       0   \n",
       "2                        0                     1       1       0.0       0   \n",
       "3                        0                     1       1       0.0       0   \n",
       "4                        0                     2       2       0.0       0   \n",
       "\n",
       "  meal country market_segment distribution_channel  is_repeated_guest  \\\n",
       "0   BB     PRT         Direct               Direct                  0   \n",
       "1   BB     PRT         Direct               Direct                  0   \n",
       "2   BB     GBR         Direct               Direct                  0   \n",
       "3   BB     GBR      Corporate            Corporate                  0   \n",
       "4   BB     GBR      Online TA                TA/TO                  0   \n",
       "\n",
       "   previous_cancellations  previous_bookings_not_canceled reserved_room_type  \\\n",
       "0                       0                               0                  C   \n",
       "1                       0                               0                  C   \n",
       "2                       0                               0                  A   \n",
       "3                       0                               0                  A   \n",
       "4                       0                               0                  A   \n",
       "\n",
       "  assigned_room_type  booking_changes deposit_type  agent  company  \\\n",
       "0                  C                3   No Deposit    NaN      NaN   \n",
       "1                  C                4   No Deposit    NaN      NaN   \n",
       "2                  C                0   No Deposit    NaN      NaN   \n",
       "3                  A                0   No Deposit  304.0      NaN   \n",
       "4                  A                0   No Deposit  240.0      NaN   \n",
       "\n",
       "   days_in_waiting_list customer_type   adr  required_car_parking_spaces  \\\n",
       "0                     0     Transient   0.0                            0   \n",
       "1                     0     Transient   0.0                            0   \n",
       "2                     0     Transient  75.0                            0   \n",
       "3                     0     Transient  75.0                            0   \n",
       "4                     0     Transient  98.0                            0   \n",
       "\n",
       "   total_of_special_requests reservation_status reservation_status_date  \n",
       "0                          0          Check-Out              2015-07-01  \n",
       "1                          0          Check-Out              2015-07-01  \n",
       "2                          0          Check-Out              2015-07-02  \n",
       "3                          0          Check-Out              2015-07-02  \n",
       "4                          1          Check-Out              2015-07-03  "
      ]
     },
     "execution_count": 7,
     "metadata": {},
     "output_type": "execute_result"
    }
   ],
   "source": [
    "df = pd.read_csv('/kaggle/input/hotel-booking-demand/hotel_bookings.csv')\n",
    "df.head()"
   ]
  },
  {
   "cell_type": "code",
   "execution_count": 8,
   "metadata": {
    "execution": {
     "iopub.execute_input": "2025-03-28T11:28:05.185194Z",
     "iopub.status.busy": "2025-03-28T11:28:05.184842Z",
     "iopub.status.idle": "2025-03-28T11:28:05.263755Z",
     "shell.execute_reply": "2025-03-28T11:28:05.262926Z",
     "shell.execute_reply.started": "2025-03-28T11:28:05.185160Z"
    },
    "trusted": true
   },
   "outputs": [
    {
     "name": "stdout",
     "output_type": "stream",
     "text": [
      "hotel                                  0\n",
      "is_canceled                            0\n",
      "lead_time                              0\n",
      "arrival_date_year                      0\n",
      "arrival_date_month                     0\n",
      "arrival_date_week_number               0\n",
      "arrival_date_day_of_month              0\n",
      "stays_in_weekend_nights                0\n",
      "stays_in_week_nights                   0\n",
      "adults                                 0\n",
      "children                               4\n",
      "babies                                 0\n",
      "meal                                   0\n",
      "country                              488\n",
      "market_segment                         0\n",
      "distribution_channel                   0\n",
      "is_repeated_guest                      0\n",
      "previous_cancellations                 0\n",
      "previous_bookings_not_canceled         0\n",
      "reserved_room_type                     0\n",
      "assigned_room_type                     0\n",
      "booking_changes                        0\n",
      "deposit_type                           0\n",
      "agent                              16340\n",
      "company                           112593\n",
      "days_in_waiting_list                   0\n",
      "customer_type                          0\n",
      "adr                                    0\n",
      "required_car_parking_spaces            0\n",
      "total_of_special_requests              0\n",
      "reservation_status                     0\n",
      "reservation_status_date                0\n",
      "dtype: int64\n"
     ]
    }
   ],
   "source": [
    "print(df.isnull().sum())"
   ]
  },
  {
   "cell_type": "code",
   "execution_count": 9,
   "metadata": {
    "execution": {
     "iopub.execute_input": "2025-03-28T11:28:05.266331Z",
     "iopub.status.busy": "2025-03-28T11:28:05.266126Z",
     "iopub.status.idle": "2025-03-28T11:28:05.664020Z",
     "shell.execute_reply": "2025-03-28T11:28:05.662887Z",
     "shell.execute_reply.started": "2025-03-28T11:28:05.266313Z"
    },
    "trusted": true
   },
   "outputs": [],
   "source": [
    "# Data cleaning and feature engineering\n",
    "df[\"children\"].fillna(0, inplace=True)\n",
    "df[\"agent\"].fillna(-1, inplace=True)\n",
    "df[\"company\"].fillna(-1, inplace=True)\n",
    "\n",
    "string_cols = ['hotel', 'arrival_date_month', 'meal', 'country', \n",
    "              'market_segment', 'distribution_channel', 'reserved_room_type', \n",
    "              'assigned_room_type', 'deposit_type', 'customer_type', 'reservation_status']\n",
    "\n",
    "for col in string_cols:\n",
    "    if col in df.columns:\n",
    "        # Convert to string and replace NaN/None with 'Unknown'\n",
    "        df[col] = df[col].astype(str)\n",
    "        df[col] = df[col].replace(['nan', 'None'], 'Unknown')\n",
    "\n",
    "for col in df.columns:\n",
    "    if df[col].dtype in ['int64', 'float64']:  # Numerical columns\n",
    "        if df[col].nunique() > 30:\n",
    "            df[col] = df[col].fillna(df[col].mean())\n",
    "        else:\n",
    "            df[col] = df[col].fillna(df[col].mode()[0])\n",
    "    elif df[col].dtype in ['object', 'category', 'string']:  # Categorical columns\n",
    "        df[col] = df[col].fillna(df[col].mode()[0])"
   ]
  },
  {
   "cell_type": "code",
   "execution_count": 10,
   "metadata": {
    "execution": {
     "iopub.execute_input": "2025-03-28T11:28:05.665619Z",
     "iopub.status.busy": "2025-03-28T11:28:05.665309Z",
     "iopub.status.idle": "2025-03-28T11:28:05.738596Z",
     "shell.execute_reply": "2025-03-28T11:28:05.737733Z",
     "shell.execute_reply.started": "2025-03-28T11:28:05.665595Z"
    },
    "trusted": true
   },
   "outputs": [
    {
     "name": "stdout",
     "output_type": "stream",
     "text": [
      "hotel                             0\n",
      "is_canceled                       0\n",
      "lead_time                         0\n",
      "arrival_date_year                 0\n",
      "arrival_date_month                0\n",
      "arrival_date_week_number          0\n",
      "arrival_date_day_of_month         0\n",
      "stays_in_weekend_nights           0\n",
      "stays_in_week_nights              0\n",
      "adults                            0\n",
      "children                          0\n",
      "babies                            0\n",
      "meal                              0\n",
      "country                           0\n",
      "market_segment                    0\n",
      "distribution_channel              0\n",
      "is_repeated_guest                 0\n",
      "previous_cancellations            0\n",
      "previous_bookings_not_canceled    0\n",
      "reserved_room_type                0\n",
      "assigned_room_type                0\n",
      "booking_changes                   0\n",
      "deposit_type                      0\n",
      "agent                             0\n",
      "company                           0\n",
      "days_in_waiting_list              0\n",
      "customer_type                     0\n",
      "adr                               0\n",
      "required_car_parking_spaces       0\n",
      "total_of_special_requests         0\n",
      "reservation_status                0\n",
      "reservation_status_date           0\n",
      "dtype: int64\n"
     ]
    }
   ],
   "source": [
    "print(df.isnull().sum())"
   ]
  },
  {
   "cell_type": "code",
   "execution_count": 11,
   "metadata": {
    "execution": {
     "iopub.execute_input": "2025-03-28T11:28:05.739545Z",
     "iopub.status.busy": "2025-03-28T11:28:05.739324Z",
     "iopub.status.idle": "2025-03-28T11:28:05.793072Z",
     "shell.execute_reply": "2025-03-28T11:28:05.792354Z",
     "shell.execute_reply.started": "2025-03-28T11:28:05.739527Z"
    },
    "trusted": true
   },
   "outputs": [],
   "source": [
    "df[\"reservation_status_date\"] = pd.to_datetime(df[\"reservation_status_date\"], format=\"%Y-%m-%d\")\n",
    "df[\"total_nights\"] = df[\"stays_in_weekend_nights\"] + df[\"stays_in_week_nights\"]\n",
    "df[\"total_guests\"] = df[\"adults\"] + df[\"children\"] + df[\"babies\"]\n",
    "df[\"revenue\"] = df[\"adr\"] * df[\"total_nights\"]"
   ]
  },
  {
   "cell_type": "code",
   "execution_count": 12,
   "metadata": {
    "execution": {
     "iopub.execute_input": "2025-03-28T11:28:05.794084Z",
     "iopub.status.busy": "2025-03-28T11:28:05.793824Z",
     "iopub.status.idle": "2025-03-28T11:28:06.725208Z",
     "shell.execute_reply": "2025-03-28T11:28:06.724183Z",
     "shell.execute_reply.started": "2025-03-28T11:28:05.794062Z"
    },
    "trusted": true
   },
   "outputs": [
    {
     "data": {
      "image/png": "[encoded data removed]",
      "text/plain": [
       "<Figure size 1000x500 with 1 Axes>"
      ]
     },
     "metadata": {},
     "output_type": "display_data"
    }
   ],
   "source": [
    "# Booking Lead Time distribution\n",
    "plt.figure(figsize=(10, 5))\n",
    "sns.histplot(df[\"lead_time\"], bins=50, kde=True)\n",
    "plt.title(\"Booking Lead Time Distribution\")\n",
    "plt.xlabel(\"Lead Time (Days)\")\n",
    "plt.ylabel(\"Number of Bookings\")\n",
    "plt.show()"
   ]
  },
  {
   "cell_type": "code",
   "execution_count": 13,
   "metadata": {
    "execution": {
     "iopub.execute_input": "2025-03-28T11:28:06.726562Z",
     "iopub.status.busy": "2025-03-28T11:28:06.726255Z",
     "iopub.status.idle": "2025-03-28T11:28:07.330695Z",
     "shell.execute_reply": "2025-03-28T11:28:07.329847Z",
     "shell.execute_reply.started": "2025-03-28T11:28:06.726530Z"
    },
    "trusted": true
   },
   "outputs": [
    {
     "data": {
      "image/png": "[encoded data removed]",
      "text/plain": [
       "<Figure size 1200x600 with 1 Axes>"
      ]
     },
     "metadata": {},
     "output_type": "display_data"
    }
   ],
   "source": [
    "# Revenue trends over time\n",
    "df.groupby([\"arrival_date_year\", \"arrival_date_month\"])[\"revenue\"].sum().plot(kind=\"line\", marker=\"o\", figsize=(12, 6))\n",
    "plt.title(\"Revenue Trends Over Time\")\n",
    "plt.xlabel(\"Year-Month\")\n",
    "plt.ylabel(\"Total Revenue\")\n",
    "plt.xticks(rotation=45)\n",
    "plt.show()"
   ]
  },
  {
   "cell_type": "code",
   "execution_count": 14,
   "metadata": {
    "execution": {
     "iopub.execute_input": "2025-03-28T11:28:07.331928Z",
     "iopub.status.busy": "2025-03-28T11:28:07.331617Z",
     "iopub.status.idle": "2025-03-28T11:28:07.533598Z",
     "shell.execute_reply": "2025-03-28T11:28:07.532691Z",
     "shell.execute_reply.started": "2025-03-28T11:28:07.331899Z"
    },
    "trusted": true
   },
   "outputs": [
    {
     "data": {
      "image/png": "[encoded data removed]",
      "text/plain": [
       "<Figure size 1200x500 with 1 Axes>"
      ]
     },
     "metadata": {},
     "output_type": "display_data"
    }
   ],
   "source": [
    "# Geographical distribution of bookings\n",
    "plt.figure(figsize=(12, 5))\n",
    "df[\"country\"].value_counts().head(10).plot(kind=\"bar\", color=\"skyblue\")\n",
    "plt.title(\"Top 10 Booking Countries\")\n",
    "plt.xlabel(\"Country\")\n",
    "plt.ylabel(\"Number of Bookings\")\n",
    "plt.show()"
   ]
  },
  {
   "cell_type": "code",
   "execution_count": 15,
   "metadata": {
    "execution": {
     "iopub.execute_input": "2025-03-28T11:28:07.534629Z",
     "iopub.status.busy": "2025-03-28T11:28:07.534371Z",
     "iopub.status.idle": "2025-03-28T11:28:08.262513Z",
     "shell.execute_reply": "2025-03-28T11:28:08.261625Z",
     "shell.execute_reply.started": "2025-03-28T11:28:07.534607Z"
    },
    "trusted": true
   },
   "outputs": [
    {
     "data": {
      "image/png": "[encoded data removed]",
      "text/plain": [
       "<Figure size 1000x500 with 1 Axes>"
      ]
     },
     "metadata": {},
     "output_type": "display_data"
    }
   ],
   "source": [
    "# Cancellation rate as a percentage of total bookings\n",
    "cancellation_rate_total = (df[\"is_canceled\"].sum() / df.shape[0]) * 100\n",
    "\n",
    "# Additional analytics: Distribution of revenue per booking\n",
    "plt.figure(figsize=(10, 5))\n",
    "sns.histplot(df[\"revenue\"], bins=50, kde=True, color=\"orange\")\n",
    "plt.title(\"Revenue Per Booking Distribution\")\n",
    "plt.xlabel(\"Revenue\")\n",
    "plt.ylabel(\"Number of Bookings\")\n",
    "plt.xlim(0, df[\"revenue\"].quantile(0.95))  # Excluding extreme values\n",
    "plt.show()"
   ]
  },
  {
   "cell_type": "code",
   "execution_count": 16,
   "metadata": {
    "execution": {
     "iopub.execute_input": "2025-03-28T11:28:08.263990Z",
     "iopub.status.busy": "2025-03-28T11:28:08.263611Z",
     "iopub.status.idle": "2025-03-28T11:28:08.413235Z",
     "shell.execute_reply": "2025-03-28T11:28:08.412248Z",
     "shell.execute_reply.started": "2025-03-28T11:28:08.263951Z"
    },
    "trusted": true
   },
   "outputs": [
    {
     "name": "stdout",
     "output_type": "stream",
     "text": [
      "Total revenue for July 2017: 3132959.07\n",
      "Cancellation rate for resort hotels: 27.763354967548675%\n",
      "Country with highest bookings: PRT (48590 bookings)\n",
      "Number of Bookings with special requests: 49072\n",
      "Country with highest cancellations: PRT (27519 cancellations)\n",
      "Percentage of repeat guests: 3.191222045397437%\n",
      "Average price of a hotel booking: 101.83\n"
     ]
    }
   ],
   "source": [
    "# Total revenue for July 2017\n",
    "total_revenue_july_2017 = df[(df[\"arrival_date_year\"] == 2017) & (df[\"arrival_date_month\"] == \"July\")][\"revenue\"].sum()\n",
    "\n",
    "# Cancellation rate for resort hotels\n",
    "resort_cancellations = df[(df[\"hotel\"] == \"Resort Hotel\") & (df[\"is_canceled\"] == 1)].shape[0]\n",
    "total_resort_bookings = df[df[\"hotel\"] == \"Resort Hotel\"].shape[0]\n",
    "cancellation_rate_resort = (resort_cancellations / total_resort_bookings) * 100 if total_resort_bookings > 0 else 0\n",
    "\n",
    "# Country with highest number of bookings\n",
    "most_bookings_country = df[\"country\"].value_counts().idxmax()\n",
    "most_bookings_count = df[\"country\"].value_counts().max()\n",
    "\n",
    "# Number of bookings with special requests\n",
    "bookings_with_special_requests = df[df[\"total_of_special_requests\"] > 0].shape[0]\n",
    "\n",
    "# Location (hotel type) with the highest booking cancellations\n",
    "most_canceled_location = df[df[\"is_canceled\"] == 1][\"hotel\"].value_counts().idxmax()\n",
    "most_canceled_count = df[df[\"is_canceled\"] == 1][\"hotel\"].value_counts().max()\n",
    "\n",
    "# Country with the highest number of booking cancellations\n",
    "most_canceled_country = df[df[\"is_canceled\"] == 1][\"country\"].value_counts().idxmax()\n",
    "most_canceled_country_count = df[df[\"is_canceled\"] == 1][\"country\"].value_counts().max()\n",
    "\n",
    "# Percentage of bookings from repeat guests\n",
    "repeat_guest_percentage = (df[df[\"is_repeated_guest\"] == 1].shape[0] / df.shape[0]) * 100\n",
    "\n",
    "# Average price of a hotel booking\n",
    "average_booking_price = df[\"adr\"].mean()\n",
    "\n",
    "# Print results\n",
    "print(f\"Total revenue for July 2017: {total_revenue_july_2017}\")\n",
    "\n",
    "print(f\"Cancellation rate for resort hotels: {cancellation_rate_resort}%\")\n",
    "\n",
    "print(f\"Country with highest bookings: {most_bookings_country} ({most_bookings_count} bookings)\")\n",
    "\n",
    "print(f\"Number of Bookings with special requests: {bookings_with_special_requests}\")\n",
    "\n",
    "print(f\"Country with highest cancellations: {most_canceled_country} ({most_canceled_country_count} cancellations)\")\n",
    "\n",
    "print(f\"Percentage of repeat guests: {repeat_guest_percentage}%\")\n",
    "\n",
    "print(f\"Average price of a hotel booking: {average_booking_price:.2f}\")"
   ]
  },
  {
   "cell_type": "code",
   "execution_count": 17,
   "metadata": {
    "execution": {
     "iopub.execute_input": "2025-03-28T11:28:08.414576Z",
     "iopub.status.busy": "2025-03-28T11:28:08.414306Z",
     "iopub.status.idle": "2025-03-28T11:28:08.829885Z",
     "shell.execute_reply": "2025-03-28T11:28:08.828916Z",
     "shell.execute_reply.started": "2025-03-28T11:28:08.414555Z"
    },
    "trusted": true
   },
   "outputs": [
    {
     "data": {
      "image/png": "[encoded data removed]",
      "text/plain": [
       "<Figure size 1200x800 with 1 Axes>"
      ]
     },
     "metadata": {},
     "output_type": "display_data"
    }
   ],
   "source": [
    "categorical_columns = df.select_dtypes(include=['object', 'category']).columns.tolist()\n",
    "# Count unique categories in each categorical column\n",
    "unique_categories_counts = {col: df[col].nunique() for col in categorical_columns}\n",
    "\n",
    "# Convert the counts to a pandas Series for easy plotting\n",
    "unique_categories_series = pd.Series(unique_categories_counts)\n",
    "\n",
    "# Plotting the unique category counts as a horizontal bar plot\n",
    "plt.figure(figsize=(12, 8))\n",
    "ax = sns.barplot(x=unique_categories_series.values, y=unique_categories_series.index, palette='viridis')\n",
    "\n",
    "# Adding labels on the side of each bar\n",
    "for i in ax.containers:\n",
    "    ax.bar_label(i, label_type='edge')\n",
    "\n",
    "# Displaying grid lines\n",
    "plt.grid(True, which='both', axis='x', linestyle='--', linewidth=0.7)\n",
    "\n",
    "plt.title('Number of Unique Categories in Categorical Columns')\n",
    "plt.xlabel('Number of Unique Categories')\n",
    "plt.ylabel('Categorical Columns')\n",
    "plt.show()"
   ]
  },
  {
   "cell_type": "code",
   "execution_count": 18,
   "metadata": {
    "execution": {
     "iopub.execute_input": "2025-03-28T11:28:08.831029Z",
     "iopub.status.busy": "2025-03-28T11:28:08.830774Z",
     "iopub.status.idle": "2025-03-28T11:28:08.936950Z",
     "shell.execute_reply": "2025-03-28T11:28:08.936087Z",
     "shell.execute_reply.started": "2025-03-28T11:28:08.831002Z"
    },
    "trusted": true
   },
   "outputs": [],
   "source": [
    "# Configuration\n",
    "EMBEDDING_MODEL = \"all-MiniLM-L6-v2\" \n",
    "LLM_MODEL = \"mistralai/Mistral-7B-Instruct-v0.2\" \n",
    "LLM_MODEL = \"meta-llama/Llama-2-7b-chat-hf\"  \n",
    "DEVICE = \"cuda\" if torch.cuda.is_available() else \"cpu\""
   ]
  },
  {
   "cell_type": "code",
   "execution_count": 19,
   "metadata": {
    "execution": {
     "iopub.execute_input": "2025-03-28T11:28:08.938491Z",
     "iopub.status.busy": "2025-03-28T11:28:08.938143Z",
     "iopub.status.idle": "2025-03-28T11:28:08.995929Z",
     "shell.execute_reply": "2025-03-28T11:28:08.994972Z",
     "shell.execute_reply.started": "2025-03-28T11:28:08.938465Z"
    },
    "trusted": true
   },
   "outputs": [],
   "source": [
    "class HotelBookingFaissRAG:\n",
    "    def __init__(self, csv_path: str):\n",
    "        \"\"\"Initialize the system with hotel booking data.\"\"\"\n",
    "        self.df = pd.read_csv(csv_path)\n",
    "        print(f\"Loaded dataset with {len(self.df)} records and {len(self.df.columns)} columns\")\n",
    "        \n",
    "        # Clean data\n",
    "        self.clean_data()\n",
    "        \n",
    "        # Initialize LLM for answering\n",
    "        self.init_llm()\n",
    "        \n",
    "        # Initialize FAISS index for semantic search\n",
    "        self.init_faiss()\n",
    "    \n",
    "    def clean_data(self):\n",
    "        \"\"\"Clean and preprocess the data.\"\"\"\n",
    "        # Convert dates\n",
    "        self.df['reservation_status_date'] = pd.to_datetime(self.df['reservation_status_date']\n",
    "                                                            ,format=\"%Y-%m-%d\", errors='coerce')\n",
    "        \n",
    "        # Handle missing values\n",
    "        self.df['children'] = self.df['children'].fillna(0)\n",
    "        self.df['agent'] = self.df['agent'].fillna('None')\n",
    "        self.df['company'] = self.df['company'].fillna('None')\n",
    "        self.df['country'] = self.df['country'].fillna('Unknown')\n",
    "        self.df['country'] = self.df['country'].replace('EST', 'ESTO')\n",
    "        \n",
    "        # Ensure boolean columns are properly handled\n",
    "        bool_cols = ['is_canceled', 'is_repeated_guest']\n",
    "        for col in bool_cols:\n",
    "            if col in self.df.columns:\n",
    "                self.df[col] = self.df[col].astype(int)\n",
    "        \n",
    "        # Ensure string columns are properly handled\n",
    "        string_cols = ['hotel', 'arrival_date_month', 'meal', 'country', \n",
    "                      'market_segment', 'distribution_channel', 'reserved_room_type', \n",
    "                      'assigned_room_type', 'deposit_type', 'customer_type', \n",
    "                      'reservation_status']\n",
    "        \n",
    "        for col in string_cols:\n",
    "            if col in self.df.columns:\n",
    "                # Convert to string and replace NaN/None with 'Unknown'\n",
    "                self.df[col] = self.df[col].astype(str)\n",
    "                self.df[col] = self.df[col].replace(['nan', 'None'], 'Unknown')\n",
    "\n",
    "\n",
    "        for col in self.df.columns:\n",
    "            if self.df[col].dtype in ['int64', 'float64']:  # Numerical columns\n",
    "                if self.df[col].nunique() > 30:\n",
    "                    self.df[col] = self.df[col].fillna(self.df[col].mean())\n",
    "                else:\n",
    "                    self.df[col] = self.df[col].fillna(self.df[col].mode()[0])\n",
    "            elif self.df[col].dtype in ['object', 'category', 'string']:\n",
    "                self.df[col] = self.df[col].fillna(self.df[col].mode()[0])\n",
    "                \n",
    "        # Calculate total stay\n",
    "        self.df['total_nights'] = self.df['stays_in_weekend_nights'] + self.df['stays_in_week_nights']\n",
    "        \n",
    "        # Calculate total guests\n",
    "        self.df['total_guests'] = self.df['adults'] + self.df['children'] + self.df['babies']\n",
    "        \n",
    "        # Calculate total revenue (ADR * total nights)\n",
    "        self.df['revenue'] = self.df['adr'] * self.df['total_nights']\n",
    "        \n",
    "        # Calculate lead time metrics\n",
    "        self.df['lead_time_category'] = pd.cut(\n",
    "            self.df['lead_time'],\n",
    "            bins=[0, 7, 30, 90, 180, 365, float('inf')],\n",
    "            labels=['Last minute', '1 week to 1 month', '1-3 months', '3-6 months', '6-12 months', 'Over 12 months']\n",
    "        )\n",
    "        \n",
    "        # Flag repeated guests\n",
    "        self.df['has_previous_stay'] = (self.df['previous_bookings_not_canceled'] > 0).astype(int)\n",
    "        \n",
    "        # Flag previous cancellations\n",
    "        self.df['has_previous_cancellations'] = (self.df['previous_cancellations'] > 0).astype(int)\n",
    "        \n",
    "        # Flag for bookings with changes\n",
    "        self.df['has_booking_changes'] = (self.df['booking_changes'] > 0).astype(int)\n",
    "        \n",
    "        # Flag for bookings with parking requirements\n",
    "        self.df['requires_parking'] = (self.df['required_car_parking_spaces'] > 0).astype(int)\n",
    "        \n",
    "        # Flag for bookings with special requests\n",
    "        self.df['has_special_requests'] = (self.df['total_of_special_requests'] > 0).astype(int)\n",
    "        \n",
    "        # Waitlist category\n",
    "        self.df['waitlist_category'] = pd.cut(\n",
    "            self.df['days_in_waiting_list'],\n",
    "            bins=[-1, 0, 7, 30, float('inf')],\n",
    "            labels=['No wait', '1-7 days', '8-30 days', 'Over 30 days']\n",
    "        )\n",
    "        \n",
    "        print(\"Data cleaning complete\")\n",
    "    \n",
    "    def init_llm(self):\n",
    "        \"\"\"Initialize the LLM for answering questions.\"\"\"\n",
    "        print(f\"Initializing LLM on {DEVICE}...\")\n",
    "        \n",
    "        try:\n",
    "            # Initialize tokenizer with proper error handling\n",
    "            print(\"Loading tokenizer...\")\n",
    "            self.tokenizer = AutoTokenizer.from_pretrained(LLM_MODEL)\n",
    "            \n",
    "            print(\"Loading model...\")\n",
    "            # For memory constraints, add low_cpu_mem_usage and load in 8bit if needed\n",
    "            load_options = {\n",
    "                \"torch_dtype\": torch.float16 if DEVICE == \"cuda\" else torch.float32,\n",
    "                \"device_map\": \"auto\",\n",
    "                \"low_cpu_mem_usage\": True\n",
    "            }\n",
    "            \n",
    "            # Uncomment the following line if you have memory issues\n",
    "            # load_options[\"load_in_8bit\"] = True\n",
    "            load_options[\"load_in_4bit\"] = True\n",
    "            \n",
    "            self.model = AutoModelForCausalLM.from_pretrained(LLM_MODEL, **load_options)\n",
    "            \n",
    "            print(\"Creating pipeline...\")\n",
    "            # Create pipeline with proper error handling\n",
    "            self.pipe = pipeline(\n",
    "                \"text-generation\",\n",
    "                model=self.model,\n",
    "                tokenizer=self.tokenizer,\n",
    "                max_new_tokens=512,\n",
    "                do_sample=True,\n",
    "                temperature=0.3,\n",
    "                top_p=0.95,\n",
    "            )\n",
    "            \n",
    "            print(\"LLM initialized successfully\")\n",
    "        \n",
    "        except Exception as e:\n",
    "            print(f\"Error initializing LLM: {str(e)}\")\n",
    "            print(\"Using simplified mode without LLM...\")\n",
    "            # Set a flag to indicate we're running without LLM\n",
    "            self.llm_available = False\n",
    "            # Define a simple answer function as fallback\n",
    "            self.pipe = None\n",
    "        else:\n",
    "            self.llm_available = True\n",
    "    \n",
    "    def init_faiss(self):\n",
    "        \"\"\"Initialize FAISS index and embeddings for the dataset.\"\"\"\n",
    "        print(\"Initializing FAISS index...\")\n",
    "        try:\n",
    "            # Load embedding model\n",
    "            self.embedding_model = SentenceTransformer(EMBEDDING_MODEL)\n",
    "            \n",
    "            # Create descriptive texts for each record to embed\n",
    "            # We'll combine important fields into text descriptions for better semantic matching\n",
    "            self.text_descriptions = self.generate_text_descriptions()\n",
    "            \n",
    "            # Generate embeddings\n",
    "            print(\"Generating embeddings for dataset...\")\n",
    "            embeddings = self.embedding_model.encode(self.text_descriptions, show_progress_bar=True)\n",
    "            \n",
    "            # Ensure embeddings are normalized for cosine similarity\n",
    "            faiss.normalize_L2(embeddings)\n",
    "            \n",
    "            # Create FAISS index\n",
    "            embedding_dim = embeddings.shape[1]\n",
    "            self.index = faiss.IndexFlatIP(embedding_dim)  # Inner product for cosine similarity with normalized vectors\n",
    "            self.index.add(embeddings)\n",
    "            \n",
    "            print(f\"FAISS index created with {self.index.ntotal} vectors of dimension {embedding_dim}\")\n",
    "            \n",
    "            # Store original indices for retrieval\n",
    "            self.original_indices = np.arange(len(self.df))\n",
    "            \n",
    "        except Exception as e:\n",
    "            print(f\"Error initializing FAISS: {str(e)}\")\n",
    "            print(\"Using traditional filtering fallback...\")\n",
    "            self.faiss_available = False\n",
    "        else:\n",
    "            self.faiss_available = True\n",
    "    \n",
    "    def generate_text_descriptions(self) -> List[str]:\n",
    "        \"\"\"Generate text descriptions for each record for semantic search.\"\"\"\n",
    "        descriptions = []\n",
    "        \n",
    "        for _, row in self.df.iterrows():\n",
    "            # Create a descriptive text that captures key information about the booking\n",
    "            desc = (\n",
    "                f\"A {row['hotel']} booking in {row['arrival_date_month']} {row['arrival_date_year']} \"\n",
    "                f\"for {row['total_nights']} nights with {row['total_guests']} guests. \"\n",
    "                f\"Room type {row['reserved_room_type']} (assigned type {row['assigned_room_type']}) \"\n",
    "                f\"at rate ${row['adr']:.2f} per night. \"\n",
    "                f\"Customer from {row['country']} booked through {row['market_segment']} channel \"\n",
    "                f\"with {row['lead_time']} days lead time. \"\n",
    "                f\"Meal package: {row['meal']}. \"\n",
    "                f\"Booking has {row['booking_changes']} changes and was on waitlist for {row['days_in_waiting_list']} days. \"\n",
    "                f\"Customer has {row['previous_bookings_not_canceled']} previous stays and {row['previous_cancellations']} previous cancellations. \"\n",
    "                f\"Requested {row['required_car_parking_spaces']} parking spaces and made {row['total_of_special_requests']} special requests. \"\n",
    "                f\"Cancellation status: {'Cancelled' if row['is_canceled'] == 1 else 'Not cancelled'}. \"\n",
    "                f\"Reservation status: {row['reservation_status']} as of {row['reservation_status_date']}.\"\n",
    "            )\n",
    "            descriptions.append(desc)\n",
    "        \n",
    "        return descriptions\n",
    "    \n",
    "    def faiss_semantic_search(self, query: str, top_k: int = 500) -> np.ndarray:\n",
    "        \"\"\"Perform semantic search using FAISS index.\"\"\"\n",
    "        if not hasattr(self, 'faiss_available') or not self.faiss_available:\n",
    "            # Return all indices if FAISS is not available\n",
    "            return self.original_indices\n",
    "        \n",
    "        # Get query embedding\n",
    "        query_embedding = self.embedding_model.encode([query])\n",
    "        faiss.normalize_L2(query_embedding)\n",
    "        \n",
    "        # Search for similar records\n",
    "        scores, indices = self.index.search(query_embedding, top_k)\n",
    "        \n",
    "        # Map to original dataframe indices\n",
    "        result_indices = self.original_indices[indices[0]]\n",
    "        \n",
    "        return result_indices\n",
    "    \n",
    "    def filter_data_for_query(self, query: str, semantic_indices: np.ndarray = None) -> pd.DataFrame:\n",
    "        \"\"\"Filter the dataset based on query keywords and semantic search.\"\"\"\n",
    "        # Start with semantically retrieved records if available\n",
    "        if semantic_indices is not None and len(semantic_indices) > 0:\n",
    "            filtered_df = self.df.iloc[semantic_indices].copy()\n",
    "        else:\n",
    "            filtered_df = self.df.copy()\n",
    "        \n",
    "        # Extract year, month if present in the query\n",
    "        year_match = re.search(r'(\\d{4})', query)\n",
    "        year = int(year_match.group(1)) if year_match else None\n",
    "        \n",
    "        month_pattern = r'(January|February|March|April|May|June|July|August|September|October|November|December)'\n",
    "        month_match = re.search(month_pattern, query, re.IGNORECASE)\n",
    "        month = month_match.group(1) if month_match else None\n",
    "        \n",
    "        # Match lead time patterns\n",
    "        lead_time_patterns = {\n",
    "            r'(last minute|last-minute)': (0, 7),\n",
    "            r'(short notice|short-notice)': (0, 30),\n",
    "            r'(advance|early)': (90, 1000)\n",
    "        }\n",
    "        \n",
    "        for pattern, (min_days, max_days) in lead_time_patterns.items():\n",
    "            if re.search(pattern, query, re.IGNORECASE):\n",
    "                filtered_df = filtered_df[(filtered_df['lead_time'] >= min_days) & \n",
    "                                          (filtered_df['lead_time'] <= max_days)]\n",
    "        \n",
    "        # Filter by reservation status\n",
    "        if 'canceled' in query.lower() or 'cancelled' in query.lower():\n",
    "            filtered_df = filtered_df[filtered_df['is_canceled'] == 1]\n",
    "        elif 'not canceled' in query.lower() or 'not cancelled' in query.lower():\n",
    "            filtered_df = filtered_df[filtered_df['is_canceled'] == 0]\n",
    "        \n",
    "        # Filter by check-out status\n",
    "        if 'checked out' in query.lower() or 'check-out' in query.lower():\n",
    "            filtered_df = filtered_df[filtered_df['reservation_status'] == 'Check-Out']\n",
    "        \n",
    "        # Filter by no-show status\n",
    "        if 'no-show' in query.lower() or 'no show' in query.lower():\n",
    "            filtered_df = filtered_df[filtered_df['reservation_status'] == 'No-Show']\n",
    "        \n",
    "        # Filter by repeat guests\n",
    "        if 'repeat' in query.lower() or 'returning' in query.lower():\n",
    "            filtered_df = filtered_df[filtered_df['is_repeated_guest'] == 1]\n",
    "        elif 'first time' in query.lower() or 'new customer' in query.lower():\n",
    "            filtered_df = filtered_df[filtered_df['is_repeated_guest'] == 0]\n",
    "        \n",
    "        # Filter by special requests\n",
    "        if 'special request' in query.lower():\n",
    "            filtered_df = filtered_df[filtered_df['total_of_special_requests'] > 0]\n",
    "        \n",
    "        # Filter by parking requirements\n",
    "        if 'parking' in query.lower():\n",
    "            filtered_df = filtered_df[filtered_df['required_car_parking_spaces'] > 0]\n",
    "\n",
    "        # Apply filters based on extracted information\n",
    "        if year:\n",
    "            filtered_df = filtered_df[filtered_df['arrival_date_year'] == year]\n",
    "        \n",
    "        if month:\n",
    "            filtered_df = filtered_df[filtered_df['arrival_date_month'].str.lower() == month.lower()]\n",
    "            \n",
    "        # Hotel type filter\n",
    "        if 'resort' in query.lower():\n",
    "            filtered_df = filtered_df[filtered_df['hotel'] == 'Resort Hotel']\n",
    "        elif 'city' in query.lower():\n",
    "            filtered_df = filtered_df[filtered_df['hotel'] == 'City Hotel']\n",
    "            \n",
    "        return filtered_df\n",
    "    \n",
    "    def analyze_data(self, filtered_df: pd.DataFrame, query: str, use_whole_dataset: bool = True) -> Dict[str, Any]:\n",
    "        \"\"\"\n",
    "        Analyze the filtered dataset based on the query.\n",
    "        \n",
    "        Args:\n",
    "            filtered_df: The filtered DataFrame to analyze\n",
    "            query: The user query\n",
    "            use_whole_dataset: Whether to use the whole dataset for analysis after identifying key filters\n",
    "        \"\"\"\n",
    "        # Identify the filters we want to apply to the whole dataset\n",
    "        filters = {}\n",
    "        \n",
    "        # Extract key filters from the filtered dataframe's conditions\n",
    "        if len(filtered_df) > 0:\n",
    "            # Extract year filter if present and consistent\n",
    "            if len(filtered_df['arrival_date_year'].unique()) == 1:\n",
    "                filters['year'] = filtered_df['arrival_date_year'].iloc[0]\n",
    "            \n",
    "            # Extract month filter if present and consistent\n",
    "            if len(filtered_df['arrival_date_month'].unique()) == 1:\n",
    "                filters['month'] = filtered_df['arrival_date_month'].iloc[0]\n",
    "            \n",
    "            # Extract country filter if present and consistent\n",
    "            if len(filtered_df['country'].unique()) == 1:\n",
    "                filters['country'] = filtered_df['country'].iloc[0]\n",
    "            \n",
    "            # Extract hotel type filter if present and consistent\n",
    "            if len(filtered_df['hotel'].unique()) == 1:\n",
    "                filters['hotel'] = filtered_df['hotel'].iloc[0]\n",
    "        \n",
    "        # Apply the identified filters to the whole dataset if requested\n",
    "        if use_whole_dataset:\n",
    "            analysis_df = self.df.copy()\n",
    "            \n",
    "            # Apply each identified filter to the whole dataset\n",
    "            if 'year' in filters:\n",
    "                analysis_df = analysis_df[analysis_df['arrival_date_year'] == filters['year']]\n",
    "            \n",
    "            if 'month' in filters:\n",
    "                analysis_df = analysis_df[analysis_df['arrival_date_month'] == filters['month']]\n",
    "            \n",
    "            if 'country' in filters:\n",
    "                analysis_df = analysis_df[analysis_df['country'] == filters['country']]\n",
    "            \n",
    "            if 'hotel' in filters:\n",
    "                analysis_df = analysis_df[analysis_df['hotel'] == filters['hotel']]\n",
    "        else:\n",
    "            # Use the filtered dataset directly\n",
    "            analysis_df = filtered_df\n",
    "        \n",
    "        # Perform analysis on the dataset\n",
    "        results = {}\n",
    "        \n",
    "        # Add dataset stats\n",
    "        results['total_records'] = len(analysis_df)\n",
    "        results['filtered_records'] = len(filtered_df)\n",
    "        \n",
    "        # Basic stats on analyzed data\n",
    "        if len(analysis_df) > 0:\n",
    "            results['hotel_distribution'] = analysis_df['hotel'].value_counts().to_dict()\n",
    "            \n",
    "            # Check for revenue calculation\n",
    "            if 'revenue' in query.lower() or 'income' in query.lower():\n",
    "                total_revenue = analysis_df['revenue'].sum()\n",
    "                avg_revenue = analysis_df['revenue'].mean()\n",
    "                results['total_revenue'] = total_revenue\n",
    "                results['avg_revenue'] = avg_revenue\n",
    "                \n",
    "                # Revenue by hotel type\n",
    "                results['revenue_by_hotel'] = analysis_df.groupby('hotel')['revenue'].sum().to_dict()\n",
    "                \n",
    "            # Check for cancellation analysis\n",
    "            if 'cancel' in query.lower():\n",
    "                total_bookings = len(analysis_df)\n",
    "                canceled = analysis_df['is_canceled'].sum()\n",
    "                cancellation_rate = canceled / total_bookings if total_bookings > 0 else 0\n",
    "                results['total_bookings'] = total_bookings\n",
    "                results['canceled_bookings'] = canceled\n",
    "                results['cancellation_rate'] = cancellation_rate\n",
    "                \n",
    "            # Get cancellation by location\n",
    "            if 'country' in query.lower() or 'location' in query.lower():\n",
    "                cancel_by_country = analysis_df.groupby('country')['is_canceled'].agg(['sum', 'count'])\n",
    "                cancel_by_country['rate'] = cancel_by_country['sum'] / cancel_by_country['count']\n",
    "                results['cancellation_by_country'] = cancel_by_country.sort_values('sum', ascending=False).head(10).to_dict()\n",
    "        \n",
    "            # Check for price/ADR analysis\n",
    "            if 'price' in query.lower() or 'adr' in query.lower() or 'rate' in query.lower():\n",
    "                avg_price = analysis_df['adr'].mean()\n",
    "                median_price = analysis_df['adr'].median()\n",
    "                min_price = analysis_df['adr'].min()\n",
    "                max_price = analysis_df['adr'].max()\n",
    "                results['avg_price'] = avg_price\n",
    "                results['median_price'] = median_price\n",
    "                results['min_price'] = min_price\n",
    "                results['max_price'] = max_price\n",
    "                \n",
    "                # ADR by hotel type\n",
    "                results['adr_by_hotel'] = analysis_df.groupby('hotel')['adr'].mean().to_dict()\n",
    "                \n",
    "            # Check for seasonality analysis\n",
    "            if 'season' in query.lower() or 'month' in query.lower():\n",
    "                bookings_by_month = analysis_df.groupby('arrival_date_month')['is_canceled'].count()\n",
    "                # Order months chronologically\n",
    "                month_order = ['January', 'February', 'March', 'April', 'May', 'June', \n",
    "                              'July', 'August', 'September', 'October', 'November', 'December']\n",
    "                bookings_by_month = bookings_by_month.reindex(month_order)\n",
    "                results['bookings_by_month'] = bookings_by_month.to_dict()\n",
    "                \n",
    "                # Revenue by month\n",
    "                revenue_by_month = analysis_df.groupby('arrival_date_month')['revenue'].sum()\n",
    "                revenue_by_month = revenue_by_month.reindex(month_order)\n",
    "                results['revenue_by_month'] = revenue_by_month.to_dict()\n",
    "                \n",
    "            # Check for guest analysis\n",
    "            if 'guest' in query.lower() or 'customer' in query.lower():\n",
    "                avg_guests = analysis_df['total_guests'].mean()\n",
    "                results['avg_guests_per_booking'] = avg_guests\n",
    "                \n",
    "                # Guests by market segment\n",
    "                results['guests_by_segment'] = analysis_df.groupby('market_segment')['total_guests'].sum().sort_values(ascending=False).to_dict()\n",
    "\n",
    "            # Analysis for lead times\n",
    "            if 'lead' in query.lower() or 'book in advance' in query.lower():\n",
    "                avg_lead_time = analysis_df['lead_time'].mean()\n",
    "                median_lead_time = analysis_df['lead_time'].median()\n",
    "                lead_time_distribution = analysis_df['lead_time_category'].value_counts().to_dict()\n",
    "                results['avg_lead_time'] = avg_lead_time\n",
    "                results['median_lead_time'] = median_lead_time\n",
    "                results['lead_time_distribution'] = lead_time_distribution\n",
    "                \n",
    "                # Lead time by hotel type\n",
    "                results['lead_time_by_hotel'] = analysis_df.groupby('hotel')['lead_time'].mean().to_dict()\n",
    "            \n",
    "            # Analysis for repeated guests\n",
    "            if 'repeat' in query.lower() or 'return' in query.lower() or 'loyal' in query.lower():\n",
    "                repeat_guests = analysis_df['is_repeated_guest'].sum()\n",
    "                repeat_rate = repeat_guests / len(analysis_df) if len(analysis_df) > 0 else 0\n",
    "                results['repeat_guests'] = repeat_guests\n",
    "                results['repeat_rate'] = repeat_rate\n",
    "                \n",
    "                # Previous stays and cancellations\n",
    "                results['avg_previous_stays'] = analysis_df['previous_bookings_not_canceled'].mean()\n",
    "                results['avg_previous_cancellations'] = analysis_df['previous_cancellations'].mean()\n",
    "            \n",
    "            # Analysis for room types\n",
    "            if 'room' in query.lower() or 'type' in query.lower():\n",
    "                room_type_distribution = analysis_df['reserved_room_type'].value_counts().to_dict()\n",
    "                room_change_rate = (analysis_df['reserved_room_type'] != analysis_df['assigned_room_type']).mean()\n",
    "                results['room_type_distribution'] = room_type_distribution\n",
    "                results['room_change_rate'] = room_change_rate\n",
    "            \n",
    "            # Analysis for booking changes\n",
    "            if 'change' in query.lower() or 'modify' in query.lower():\n",
    "                bookings_with_changes = (analysis_df['booking_changes'] > 0).sum()\n",
    "                change_rate = bookings_with_changes / len(analysis_df) if len(analysis_df) > 0 else 0\n",
    "                avg_changes = analysis_df['booking_changes'].mean()\n",
    "                results['bookings_with_changes'] = bookings_with_changes\n",
    "                results['change_rate'] = change_rate\n",
    "                results['avg_changes'] = avg_changes\n",
    "            \n",
    "            # Analysis for special requests\n",
    "            if 'special' in query.lower() or 'request' in query.lower():\n",
    "                bookings_with_requests = (analysis_df['total_of_special_requests'] > 0).sum()\n",
    "                request_rate = bookings_with_requests / len(analysis_df) if len(analysis_df) > 0 else 0\n",
    "                avg_requests = analysis_df['total_of_special_requests'].mean()\n",
    "                results['bookings_with_requests'] = bookings_with_requests\n",
    "                results['request_rate'] = request_rate\n",
    "                results['avg_requests'] = avg_requests\n",
    "            \n",
    "            # Analysis for waitlist\n",
    "            if 'wait' in query.lower() or 'waitlist' in query.lower():\n",
    "                bookings_waitlisted = (analysis_df['days_in_waiting_list'] > 0).sum()\n",
    "                waitlist_rate = bookings_waitlisted / len(analysis_df) if len(analysis_df) > 0 else 0\n",
    "                avg_waitlist_days = analysis_df['days_in_waiting_list'].mean()\n",
    "                results['bookings_waitlisted'] = bookings_waitlisted\n",
    "                results['waitlist_rate'] = waitlist_rate\n",
    "                results['avg_waitlist_days'] = avg_waitlist_days\n",
    "                results['waitlist_distribution'] = analysis_df['waitlist_category'].value_counts().to_dict()\n",
    "            \n",
    "            # Analysis for meal preferences\n",
    "            if 'meal' in query.lower() or 'food' in query.lower() or 'board' in query.lower():\n",
    "                meal_distribution = analysis_df['meal'].value_counts().to_dict()\n",
    "                results['meal_distribution'] = meal_distribution\n",
    "                \n",
    "                # Meal preferences by country (top 5)\n",
    "                meal_by_country = analysis_df.groupby(['country', 'meal']).size().unstack(fill_value=0)\n",
    "                top_countries = meal_by_country.sum(axis=1).sort_values(ascending=False).head(5).index\n",
    "                results['meal_preferences_by_country'] = meal_by_country.loc[top_countries].to_dict()\n",
    "            \n",
    "             # Analysis for distribution channels\n",
    "            if 'channel' in query.lower() or 'book' in query.lower() or 'segment' in query.lower():\n",
    "               channel_distribution = analysis_df['distribution_channel'].value_counts().to_dict()\n",
    "               segment_distribution = analysis_df['market_segment'].value_counts().to_dict()\n",
    "               results['channel_distribution'] = channel_distribution\n",
    "               results['segment_distribution'] = segment_distribution\n",
    "               \n",
    "            # Revenue by channel\n",
    "            if 'revenue' in analysis_df.columns:\n",
    "                results['revenue_by_channel'] = analysis_df.groupby('distribution_channel')['revenue'].sum().to_dict()\n",
    "                results['revenue_by_segment'] = analysis_df.groupby('market_segment')['revenue'].sum().to_dict()\n",
    "           \n",
    "            # Analysis for deposit types\n",
    "            if 'deposit' in query.lower() or 'payment' in query.lower():\n",
    "               deposit_distribution = analysis_df['deposit_type'].value_counts().to_dict()\n",
    "               results['deposit_distribution'] = deposit_distribution\n",
    "               \n",
    "               # Cancellation by deposit type\n",
    "               cancel_by_deposit = analysis_df.groupby('deposit_type')['is_canceled'].agg(['sum', 'count'])\n",
    "               cancel_by_deposit['rate'] = cancel_by_deposit['sum'] / cancel_by_deposit['count']\n",
    "               results['cancellation_by_deposit'] = cancel_by_deposit.to_dict()\n",
    "           \n",
    "            # Analysis for weekend vs weekday stays\n",
    "            if 'weekend' in query.lower() or 'weekday' in query.lower() or 'week' in query.lower():\n",
    "               avg_weekend_nights = analysis_df['stays_in_weekend_nights'].mean()\n",
    "               avg_week_nights = analysis_df['stays_in_week_nights'].mean()\n",
    "               weekend_ratio = avg_weekend_nights / (avg_weekend_nights + avg_week_nights) if (avg_weekend_nights + avg_week_nights) > 0 else 0\n",
    "               results['avg_weekend_nights'] = avg_weekend_nights\n",
    "               results['avg_week_nights'] = avg_week_nights\n",
    "               results['weekend_ratio'] = weekend_ratio\n",
    "               \n",
    "               # Stays with only weekend nights\n",
    "               weekend_only = (analysis_df['stays_in_weekend_nights'] > 0) & (analysis_df['stays_in_week_nights'] == 0)\n",
    "               results['weekend_only_stays'] = weekend_only.sum()\n",
    "               results['weekend_only_rate'] = weekend_only.mean()\n",
    "           \n",
    "            # Analysis for agents and companies\n",
    "            if 'agent' in query.lower() or 'company' in query.lower():\n",
    "               # Top agents by number of bookings\n",
    "               top_agents = analysis_df['agent'].value_counts().head(10).to_dict()\n",
    "               results['top_agents'] = top_agents\n",
    "               \n",
    "            # Top companies by number of bookings\n",
    "            if 'company' in analysis_df.columns:\n",
    "                   top_companies = analysis_df['company'].value_counts().head(10).to_dict()\n",
    "                   results['top_companies'] = top_companies\n",
    "           \n",
    "            # Analysis for stay duration\n",
    "            if 'stay' in query.lower() or 'duration' in query.lower() or 'length' in query.lower():\n",
    "               avg_stay = analysis_df['total_nights'].mean()\n",
    "               median_stay = analysis_df['total_nights'].median()\n",
    "               max_stay = analysis_df['total_nights'].max()\n",
    "               results['avg_stay'] = avg_stay\n",
    "               results['median_stay'] = median_stay\n",
    "               results['max_stay'] = max_stay\n",
    "               \n",
    "               # Stay duration by hotel type\n",
    "               results['stay_by_hotel'] = analysis_df.groupby('hotel')['total_nights'].mean().to_dict()\n",
    "   \n",
    "        return results\n",
    "    \n",
    "    def generate_answer(self, query: str) -> str:\n",
    "        \"\"\"Generate an answer using semantic search and whole dataset analysis.\"\"\"\n",
    "        print(f\"Processing query: {query}\")\n",
    "        \n",
    "        # First, get semantically similar records using FAISS\n",
    "        if hasattr(self, 'faiss_available') and self.faiss_available:\n",
    "            semantic_indices = self.faiss_semantic_search(query, top_k=min(500, len(self.df)))\n",
    "            print(f\"Found {len(semantic_indices)} semantically relevant records\")\n",
    "        else:\n",
    "            semantic_indices = None\n",
    "            print(\"FAISS not available, using traditional filtering\")\n",
    "        \n",
    "        # Filter relevant data based on query and semantic search\n",
    "        filtered_data = self.filter_data_for_query(query, semantic_indices)\n",
    "        \n",
    "        if len(filtered_data) == 0:\n",
    "            return \"I couldn't find any data matching your query criteria.\"\n",
    "        \n",
    "        # Analyze the filtered data, using the whole dataset with the same filters\n",
    "        analysis_results = self.analyze_data(filtered_data, query, use_whole_dataset=True)\n",
    "        \n",
    "        # Prepare context with dataset summary\n",
    "        context = f\"Analysis based on {analysis_results.get('total_records', 0)} hotel booking records\"\n",
    "        if analysis_results.get('filtered_records', 0) != analysis_results.get('total_records', 0):\n",
    "            context += f\" (initial filter matched {analysis_results.get('filtered_records', 0)} records)\"\n",
    "        context += \":\\n\\n\"\n",
    "        \n",
    "        # Add hotel distribution\n",
    "        if 'hotel_distribution' in analysis_results:\n",
    "            context += \"Hotel types in data:\\n\"\n",
    "            for hotel, count in analysis_results['hotel_distribution'].items():\n",
    "                context += f\"- {hotel}: {count} bookings\\n\"\n",
    "            context += \"\\n\"\n",
    "\n",
    "        # Add lead time context if relevant\n",
    "        if 'lead' in query.lower() or 'advance' in query.lower():\n",
    "            if 'avg_lead_time' in analysis_results:\n",
    "                context += f\"Lead time analysis:\\n\"\n",
    "                context += f\"- Average lead time: {analysis_results['avg_lead_time']:.1f} days\\n\"\n",
    "                context += f\"- Median lead time: {analysis_results['median_lead_time']:.1f} days\\n\"\n",
    "                \n",
    "                if 'lead_time_distribution' in analysis_results:\n",
    "                    context += \"Lead time distribution:\\n\"\n",
    "                    for category, count in analysis_results['lead_time_distribution'].items():\n",
    "                        context += f\"  - {category}: {count} bookings\\n\"\n",
    "                context += \"\\n\"\n",
    "        \n",
    "        # Add room type context if relevant\n",
    "        if 'room' in query.lower() or 'type' in query.lower():\n",
    "            if 'room_type_distribution' in analysis_results:\n",
    "                context += \"Room type distribution:\\n\"\n",
    "                for room_type, count in analysis_results['room_type_distribution'].items():\n",
    "                    context += f\"- Type {room_type}: {count} bookings\\n\"\n",
    "                \n",
    "                if 'room_change_rate' in analysis_results:\n",
    "                    context += f\"- Room change rate: {analysis_results['room_change_rate']*100:.1f}%\\n\"\n",
    "                context += \"\\n\"\n",
    "        \n",
    "        # Add special requests context if relevant\n",
    "        if 'special' in query.lower() or 'request' in query.lower():\n",
    "            if 'bookings_with_requests' in analysis_results:\n",
    "                context += \"Special requests analysis:\\n\"\n",
    "                context += f\"- Bookings with special requests: {analysis_results['bookings_with_requests']}\\n\"\n",
    "                context += f\"- Special request rate: {analysis_results['request_rate']*100:.1f}%\\n\"\n",
    "                context += f\"- Average requests per booking: {analysis_results['avg_requests']:.2f}\\n\"\n",
    "                context += \"\\n\"\n",
    "        \n",
    "        # Add all analysis results\n",
    "        context += \"Analysis results:\\n\"\n",
    "        for key, value in analysis_results.items():\n",
    "            if key in ['total_records', 'filtered_records', 'hotel_distribution']:\n",
    "                continue  # Already included above\n",
    "                \n",
    "            if isinstance(value, dict):\n",
    "                context += f\"{key}:\\n\"\n",
    "                for k, v in value.items():\n",
    "                    if isinstance(v, float):\n",
    "                        context += f\"  {k}: {v:.2f}\\n\"\n",
    "                    else:\n",
    "                        context += f\"  {k}: {v}\\n\"\n",
    "            elif isinstance(value, float):\n",
    "                context += f\"{key}: {value:.2f}\\n\"\n",
    "            else:\n",
    "                context += f\"{key}: {value}\\n\"\n",
    "        \n",
    "        # Create prompt for LLM\n",
    "        prompt = f\"\"\"\n",
    "        <s>[INST] You are a hotel data analyst assistant. Use only the information provided in the context to answer the question. Be specific, concise, and provide numerical results when available.\n",
    "\n",
    "        Context:\n",
    "        {context}\n",
    "        \n",
    "        Question: {query}\n",
    "        \n",
    "        Answer: [/INST]\n",
    "        \"\"\"\n",
    "        \n",
    "        # Generate answer with LLM (if available)\n",
    "        if hasattr(self, 'pipe') and self.pipe:\n",
    "            answer = self.pipe(prompt)[0]['generated_text']\n",
    "            response = answer.split(\"[/INST]\")[-1].strip()\n",
    "        else:\n",
    "            # Simple response based on analysis if LLM not available\n",
    "            response = f\"Based on the analysis of {analysis_results.get('total_records', 0)} hotel bookings:\\n\"\n",
    "            if 'cancel' in query.lower() and 'canceled_bookings' in analysis_results:\n",
    "                response += f\"- Total bookings: {analysis_results.get('total_bookings')}\\n\"\n",
    "                response += f\"- Cancelled bookings: {analysis_results.get('canceled_bookings')}\\n\"\n",
    "                response += f\"- Cancellation rate: {analysis_results.get('cancellation_rate', 0)*100:.2f}%\\n\"\n",
    "            \n",
    "            if 'revenue' in query.lower() and 'total_revenue' in analysis_results:\n",
    "                response += f\"- Total revenue: ${analysis_results.get('total_revenue'):.2f}\\n\"\n",
    "                response += f\"- Average revenue per booking: ${analysis_results.get('avg_revenue'):.2f}\\n\"\n",
    "        \n",
    "        return response"
   ]
  },
  {
   "cell_type": "code",
   "execution_count": 20,
   "metadata": {
    "execution": {
     "iopub.execute_input": "2025-03-28T11:28:08.997227Z",
     "iopub.status.busy": "2025-03-28T11:28:08.996884Z",
     "iopub.status.idle": "2025-03-28T11:49:34.751607Z",
     "shell.execute_reply": "2025-03-28T11:49:34.750708Z",
     "shell.execute_reply.started": "2025-03-28T11:28:08.997195Z"
    },
    "trusted": true
   },
   "outputs": [
    {
     "name": "stdout",
     "output_type": "stream",
     "text": [
      "Initializing RAG system...\n",
      "Loaded dataset with 119390 records and 32 columns\n",
      "Data cleaning complete\n",
      "Initializing LLM on cuda...\n",
      "Loading tokenizer...\n"
     ]
    },
    {
     "data": {
      "application/vnd.jupyter.widget-view+json": {
       "model_id": "7be66bdc8a8047ed9bd7823a6e7fe4ea",
       "version_major": 2,
       "version_minor": 0
      },
      "text/plain": [
       "tokenizer_config.json:   0%|          | 0.00/1.62k [00:00<?, ?B/s]"
      ]
     },
     "metadata": {},
     "output_type": "display_data"
    },
    {
     "data": {
      "application/vnd.jupyter.widget-view+json": {
       "model_id": "a13e26a5922f44d18a8cc5eb81136688",
       "version_major": 2,
       "version_minor": 0
      },
      "text/plain": [
       "tokenizer.model:   0%|          | 0.00/500k [00:00<?, ?B/s]"
      ]
     },
     "metadata": {},
     "output_type": "display_data"
    },
    {
     "data": {
      "application/vnd.jupyter.widget-view+json": {
       "model_id": "c5aa0d0cf60c4528a80530c5c232dcc6",
       "version_major": 2,
       "version_minor": 0
      },
      "text/plain": [
       "tokenizer.json:   0%|          | 0.00/1.84M [00:00<?, ?B/s]"
      ]
     },
     "metadata": {},
     "output_type": "display_data"
    },
    {
     "data": {
      "application/vnd.jupyter.widget-view+json": {
       "model_id": "4f00f32dc5b0463ebac291395ff5e8fa",
       "version_major": 2,
       "version_minor": 0
      },
      "text/plain": [
       "special_tokens_map.json:   0%|          | 0.00/414 [00:00<?, ?B/s]"
      ]
     },
     "metadata": {},
     "output_type": "display_data"
    },
    {
     "name": "stdout",
     "output_type": "stream",
     "text": [
      "Loading model...\n"
     ]
    },
    {
     "data": {
      "application/vnd.jupyter.widget-view+json": {
       "model_id": "d78e5552539a4b14bd5d57cfc465ff05",
       "version_major": 2,
       "version_minor": 0
      },
      "text/plain": [
       "config.json:   0%|          | 0.00/614 [00:00<?, ?B/s]"
      ]
     },
     "metadata": {},
     "output_type": "display_data"
    },
    {
     "name": "stderr",
     "output_type": "stream",
     "text": [
      "The `load_in_4bit` and `load_in_8bit` arguments are deprecated and will be removed in the future versions. Please, pass a `BitsAndBytesConfig` object in `quantization_config` argument instead.\n"
     ]
    },
    {
     "data": {
      "application/vnd.jupyter.widget-view+json": {
       "model_id": "d02b2b9705b14dadab9108a0251ed1d5",
       "version_major": 2,
       "version_minor": 0
      },
      "text/plain": [
       "model.safetensors.index.json:   0%|          | 0.00/26.8k [00:00<?, ?B/s]"
      ]
     },
     "metadata": {},
     "output_type": "display_data"
    },
    {
     "data": {
      "application/vnd.jupyter.widget-view+json": {
       "model_id": "45acb0df4eb946d29d5f83dd68d81fd1",
       "version_major": 2,
       "version_minor": 0
      },
      "text/plain": [
       "Downloading shards:   0%|          | 0/2 [00:00<?, ?it/s]"
      ]
     },
     "metadata": {},
     "output_type": "display_data"
    },
    {
     "data": {
      "application/vnd.jupyter.widget-view+json": {
       "model_id": "61136d88920945228240d3e15aaa7a32",
       "version_major": 2,
       "version_minor": 0
      },
      "text/plain": [
       "model-00001-of-00002.safetensors:   0%|          | 0.00/9.98G [00:00<?, ?B/s]"
      ]
     },
     "metadata": {},
     "output_type": "display_data"
    },
    {
     "data": {
      "application/vnd.jupyter.widget-view+json": {
       "model_id": "5cfe7418ef6e4988b38fbe43e7ae7e56",
       "version_major": 2,
       "version_minor": 0
      },
      "text/plain": [
       "model-00002-of-00002.safetensors:   0%|          | 0.00/3.50G [00:00<?, ?B/s]"
      ]
     },
     "metadata": {},
     "output_type": "display_data"
    },
    {
     "data": {
      "application/vnd.jupyter.widget-view+json": {
       "model_id": "0bd217abb1034392b9a22f0c26d7b838",
       "version_major": 2,
       "version_minor": 0
      },
      "text/plain": [
       "Loading checkpoint shards:   0%|          | 0/2 [00:00<?, ?it/s]"
      ]
     },
     "metadata": {},
     "output_type": "display_data"
    },
    {
     "data": {
      "application/vnd.jupyter.widget-view+json": {
       "model_id": "ab2867d13ac546f0bd6a9928e5033b89",
       "version_major": 2,
       "version_minor": 0
      },
      "text/plain": [
       "generation_config.json:   0%|          | 0.00/188 [00:00<?, ?B/s]"
      ]
     },
     "metadata": {},
     "output_type": "display_data"
    },
    {
     "name": "stderr",
     "output_type": "stream",
     "text": [
      "Device set to use cuda:0\n"
     ]
    },
    {
     "name": "stdout",
     "output_type": "stream",
     "text": [
      "Creating pipeline...\n",
      "LLM initialized successfully\n",
      "Initializing FAISS index...\n"
     ]
    },
    {
     "data": {
      "application/vnd.jupyter.widget-view+json": {
       "model_id": "4dbd8b36b3804d57961d7066ba324006",
       "version_major": 2,
       "version_minor": 0
      },
      "text/plain": [
       "modules.json:   0%|          | 0.00/349 [00:00<?, ?B/s]"
      ]
     },
     "metadata": {},
     "output_type": "display_data"
    },
    {
     "data": {
      "application/vnd.jupyter.widget-view+json": {
       "model_id": "b5259cd398e546dcb423adbc530ddff2",
       "version_major": 2,
       "version_minor": 0
      },
      "text/plain": [
       "config_sentence_transformers.json:   0%|          | 0.00/116 [00:00<?, ?B/s]"
      ]
     },
     "metadata": {},
     "output_type": "display_data"
    },
    {
     "data": {
      "application/vnd.jupyter.widget-view+json": {
       "model_id": "106eb05468b24c218ccc3334f00845ad",
       "version_major": 2,
       "version_minor": 0
      },
      "text/plain": [
       "README.md:   0%|          | 0.00/10.5k [00:00<?, ?B/s]"
      ]
     },
     "metadata": {},
     "output_type": "display_data"
    },
    {
     "data": {
      "application/vnd.jupyter.widget-view+json": {
       "model_id": "81fefbf1746d4de7906a3ae60fb5d478",
       "version_major": 2,
       "version_minor": 0
      },
      "text/plain": [
       "sentence_bert_config.json:   0%|          | 0.00/53.0 [00:00<?, ?B/s]"
      ]
     },
     "metadata": {},
     "output_type": "display_data"
    },
    {
     "data": {
      "application/vnd.jupyter.widget-view+json": {
       "model_id": "74af291a41e64127a675bdf6e70ef726",
       "version_major": 2,
       "version_minor": 0
      },
      "text/plain": [
       "config.json:   0%|          | 0.00/612 [00:00<?, ?B/s]"
      ]
     },
     "metadata": {},
     "output_type": "display_data"
    },
    {
     "data": {
      "application/vnd.jupyter.widget-view+json": {
       "model_id": "d4c00f39f0e54172a686f9c0d4a4a835",
       "version_major": 2,
       "version_minor": 0
      },
      "text/plain": [
       "model.safetensors:   0%|          | 0.00/90.9M [00:00<?, ?B/s]"
      ]
     },
     "metadata": {},
     "output_type": "display_data"
    },
    {
     "data": {
      "application/vnd.jupyter.widget-view+json": {
       "model_id": "be7825b1b9054c2da1621f6e26152ec9",
       "version_major": 2,
       "version_minor": 0
      },
      "text/plain": [
       "tokenizer_config.json:   0%|          | 0.00/350 [00:00<?, ?B/s]"
      ]
     },
     "metadata": {},
     "output_type": "display_data"
    },
    {
     "data": {
      "application/vnd.jupyter.widget-view+json": {
       "model_id": "8bd89d5f723a4763a4d3df89827a574b",
       "version_major": 2,
       "version_minor": 0
      },
      "text/plain": [
       "vocab.txt:   0%|          | 0.00/232k [00:00<?, ?B/s]"
      ]
     },
     "metadata": {},
     "output_type": "display_data"
    },
    {
     "data": {
      "application/vnd.jupyter.widget-view+json": {
       "model_id": "91e5b449cb93475db099b6ad774889f3",
       "version_major": 2,
       "version_minor": 0
      },
      "text/plain": [
       "tokenizer.json:   0%|          | 0.00/466k [00:00<?, ?B/s]"
      ]
     },
     "metadata": {},
     "output_type": "display_data"
    },
    {
     "data": {
      "application/vnd.jupyter.widget-view+json": {
       "model_id": "849a755207a24907a1c01d04051b324f",
       "version_major": 2,
       "version_minor": 0
      },
      "text/plain": [
       "special_tokens_map.json:   0%|          | 0.00/112 [00:00<?, ?B/s]"
      ]
     },
     "metadata": {},
     "output_type": "display_data"
    },
    {
     "data": {
      "application/vnd.jupyter.widget-view+json": {
       "model_id": "422907c232504f7d8dcc6ed35af6f2f3",
       "version_major": 2,
       "version_minor": 0
      },
      "text/plain": [
       "config.json:   0%|          | 0.00/190 [00:00<?, ?B/s]"
      ]
     },
     "metadata": {},
     "output_type": "display_data"
    },
    {
     "name": "stdout",
     "output_type": "stream",
     "text": [
      "Generating embeddings for dataset...\n"
     ]
    },
    {
     "data": {
      "application/vnd.jupyter.widget-view+json": {
       "model_id": "901a46d400a745338d6a49a6bbed8e36",
       "version_major": 2,
       "version_minor": 0
      },
      "text/plain": [
       "Batches:   0%|          | 0/3731 [00:00<?, ?it/s]"
      ]
     },
     "metadata": {},
     "output_type": "display_data"
    },
    {
     "name": "stdout",
     "output_type": "stream",
     "text": [
      "FAISS index created with 119390 vectors of dimension 384\n",
      "\n",
      "Hotel Booking RAG System Ready!\n",
      "You can ask questions like:\n",
      "- 'Show me total revenue for July 2017.'\n",
      "- 'Which locations had the highest booking cancellations?'\n",
      "- 'What is the average price of a hotel booking?'\n",
      "Type 'exit' to quit.\n",
      "\n"
     ]
    },
    {
     "name": "stdout",
     "output_type": "stream",
     "text": [
      "Ask a question:  Total revenue for July 2017\n"
     ]
    },
    {
     "name": "stdout",
     "output_type": "stream",
     "text": [
      "Processing query: Total revenue for July 2017\n"
     ]
    },
    {
     "data": {
      "application/vnd.jupyter.widget-view+json": {
       "model_id": "7cd4e05641754b4eb23b08f69d603386",
       "version_major": 2,
       "version_minor": 0
      },
      "text/plain": [
       "Batches:   0%|          | 0/1 [00:00<?, ?it/s]"
      ]
     },
     "metadata": {},
     "output_type": "display_data"
    },
    {
     "name": "stdout",
     "output_type": "stream",
     "text": [
      "Found 500 semantically relevant records\n",
      "\n",
      "Answer:\n",
      "Total revenue for July 2017: $3132959.07\n",
      "\n",
      "Based on the data provided, the total revenue for July 2017 was $3132959.07. This can be calculated by adding up the revenue for each hotel type and channel, as shown in the table:\n",
      "\n",
      "* City Hotel: $1456022.38\n",
      "* Resort Hotel: $1676936.69\n",
      "* Total revenue: $3132959.07\n",
      "\n",
      "Therefore, the answer to the question is $3132959.07.\n",
      "\n",
      "Retrieval Time: 15.9265 seconds\n",
      "\n",
      "--------------------------------------------------\n",
      "\n"
     ]
    },
    {
     "name": "stdout",
     "output_type": "stream",
     "text": [
      "Ask a question:  What is the cancellation rate for resort hotels\n"
     ]
    },
    {
     "name": "stdout",
     "output_type": "stream",
     "text": [
      "Processing query: What is the cancellation rate for resort hotels\n"
     ]
    },
    {
     "data": {
      "application/vnd.jupyter.widget-view+json": {
       "model_id": "3606332ee27042418b13d1db9405b21f",
       "version_major": 2,
       "version_minor": 0
      },
      "text/plain": [
       "Batches:   0%|          | 0/1 [00:00<?, ?it/s]"
      ]
     },
     "metadata": {},
     "output_type": "display_data"
    },
    {
     "name": "stdout",
     "output_type": "stream",
     "text": [
      "Found 500 semantically relevant records\n",
      "\n",
      "Answer:\n",
      "Based on the information provided in the context, the cancellation rate for resort hotels is 0.28, which means that out of 40060 bookings, 11122 bookings were canceled.\n",
      "\n",
      "Here is the calculation:\n",
      "\n",
      "Cancellation rate = Number of canceled bookings / Total number of bookings\n",
      "= 11122 / 40060\n",
      "= 0.28\n",
      "\n",
      "Therefore, the cancellation rate for resort hotels is 0.28.\n",
      "\n",
      "Retrieval Time: 12.3628 seconds\n",
      "\n",
      "--------------------------------------------------\n",
      "\n"
     ]
    },
    {
     "name": "stdout",
     "output_type": "stream",
     "text": [
      "Ask a question:  Which country has the highest number of bookings?\n"
     ]
    },
    {
     "name": "stdout",
     "output_type": "stream",
     "text": [
      "Processing query: Which country has the highest number of bookings?\n"
     ]
    },
    {
     "data": {
      "application/vnd.jupyter.widget-view+json": {
       "model_id": "00039acd069b48b9b483bf216690251d",
       "version_major": 2,
       "version_minor": 0
      },
      "text/plain": [
       "Batches:   0%|          | 0/1 [00:00<?, ?it/s]"
      ]
     },
     "metadata": {},
     "output_type": "display_data"
    },
    {
     "name": "stdout",
     "output_type": "stream",
     "text": [
      "Found 500 semantically relevant records\n",
      "\n",
      "Answer:\n",
      "Based on the provided data, the country with the highest number of bookings is Portugal, with 7438 bookings. This can be seen in the \"cancellation_by_country\" section of the analysis results, where Portugal has the highest sum of cancellations with 7438.\n",
      "\n",
      "Retrieval Time: 9.6886 seconds\n",
      "\n",
      "--------------------------------------------------\n",
      "\n"
     ]
    },
    {
     "name": "stdout",
     "output_type": "stream",
     "text": [
      "Ask a question:  How many bookings include special requests?\n"
     ]
    },
    {
     "name": "stdout",
     "output_type": "stream",
     "text": [
      "Processing query: How many bookings include special requests?\n"
     ]
    },
    {
     "data": {
      "application/vnd.jupyter.widget-view+json": {
       "model_id": "082c6af368a64b04801c51d44f11a0de",
       "version_major": 2,
       "version_minor": 0
      },
      "text/plain": [
       "Batches:   0%|          | 0/1 [00:00<?, ?it/s]"
      ]
     },
     "metadata": {},
     "output_type": "display_data"
    },
    {
     "name": "stdout",
     "output_type": "stream",
     "text": [
      "Found 500 semantically relevant records\n",
      "\n",
      "Answer:\n",
      "According to the analysis, 17699 bookings include special requests, which represents 44.2% of the total bookings.\n",
      "\n",
      "The exact number of bookings that include special requests is 17699.\n",
      "\n",
      "Retrieval Time: 6.9410 seconds\n",
      "\n",
      "--------------------------------------------------\n",
      "\n"
     ]
    },
    {
     "name": "stdout",
     "output_type": "stream",
     "text": [
      "Ask a question:  Which countries had the highest booking cancellations?\n"
     ]
    },
    {
     "name": "stdout",
     "output_type": "stream",
     "text": [
      "Processing query: Which countries had the highest booking cancellations?\n"
     ]
    },
    {
     "data": {
      "application/vnd.jupyter.widget-view+json": {
       "model_id": "9184f23a118c4cc093c3cdaa08dd9fcd",
       "version_major": 2,
       "version_minor": 0
      },
      "text/plain": [
       "Batches:   0%|          | 0/1 [00:00<?, ?it/s]"
      ]
     },
     "metadata": {},
     "output_type": "display_data"
    },
    {
     "name": "stdout",
     "output_type": "stream",
     "text": [
      "Found 500 semantically relevant records\n",
      "\n",
      "Answer:\n",
      "Based on the provided data, the top 5 countries with the highest booking cancellations are:\n",
      "\n",
      "1. United States - 223 cancellations (accounting for 44% of total cancellations)\n",
      "2. Canada - 78 cancellations (accounting for 16% of total cancellations)\n",
      "3. Mexico - 67 cancellations (accounting for 14% of total cancellations)\n",
      "4. Brazil - 45 cancellations (accounting for 9% of total cancellations)\n",
      "5. Germany - 26 cancellations (accounting for 5% of total cancellations)\n",
      "\n",
      "Therefore, the answer to the question is: The countries with the highest booking cancellations are the United States, Canada, Mexico, Brazil, and Germany.\n",
      "\n",
      "Retrieval Time: 18.4386 seconds\n",
      "\n",
      "--------------------------------------------------\n",
      "\n"
     ]
    },
    {
     "name": "stdout",
     "output_type": "stream",
     "text": [
      "Ask a question:  What percentage of bookings are from repeat guests?\n"
     ]
    },
    {
     "name": "stdout",
     "output_type": "stream",
     "text": [
      "Processing query: What percentage of bookings are from repeat guests?\n"
     ]
    },
    {
     "data": {
      "application/vnd.jupyter.widget-view+json": {
       "model_id": "9a031cc4de124be28b9716e7498379f0",
       "version_major": 2,
       "version_minor": 0
      },
      "text/plain": [
       "Batches:   0%|          | 0/1 [00:00<?, ?it/s]"
      ]
     },
     "metadata": {},
     "output_type": "display_data"
    },
    {
     "name": "stdout",
     "output_type": "stream",
     "text": [
      "Found 500 semantically relevant records\n",
      "\n",
      "Answer:\n",
      "According to the analysis, 1778 bookings (or 4.4% of the total bookings) are from repeat guests.\n",
      "\n",
      "To calculate the percentage of repeat guests, we can use the following formula:\n",
      "\n",
      "Percentage of repeat guests = (Number of repeat bookings / Total number of bookings) x 100\n",
      "\n",
      "Plugging in the numbers from the analysis, we get:\n",
      "\n",
      "Percentage of repeat guests = (1778 / 40060) x 100 = 4.4%\n",
      "\n",
      "Therefore, approximately 4.4% of the bookings in the dataset are from repeat guests.\n",
      "\n",
      "Retrieval Time: 15.1217 seconds\n",
      "\n",
      "--------------------------------------------------\n",
      "\n"
     ]
    },
    {
     "name": "stdout",
     "output_type": "stream",
     "text": [
      "Ask a question:  What is the average price of hotel bookings?\n"
     ]
    },
    {
     "name": "stdout",
     "output_type": "stream",
     "text": [
      "Processing query: What is the average price of hotel bookings?\n"
     ]
    },
    {
     "data": {
      "application/vnd.jupyter.widget-view+json": {
       "model_id": "3604c20bd93c4878a6f22b366dcc55a9",
       "version_major": 2,
       "version_minor": 0
      },
      "text/plain": [
       "Batches:   0%|          | 0/1 [00:00<?, ?it/s]"
      ]
     },
     "metadata": {},
     "output_type": "display_data"
    },
    {
     "name": "stdout",
     "output_type": "stream",
     "text": [
      "Found 500 semantically relevant records\n",
      "\n",
      "Answer:\n",
      "Based on the provided data, the average price of hotel bookings is $101.83.\n",
      "\n",
      "To calculate the average price, we can use the following formula:\n",
      "\n",
      "Average Price = Total Revenue / Number of Bookings\n",
      "\n",
      "From the data provided, the total revenue is $1114093.46, and the number of bookings is 119390. Therefore, the average price of hotel bookings is:\n",
      "\n",
      "Average Price = $1114093.46 / 119390 = $101.83\n",
      "\n",
      "Therefore, the answer to the question is $101.83.\n",
      "\n",
      "Retrieval Time: 15.6794 seconds\n",
      "\n",
      "--------------------------------------------------\n",
      "\n"
     ]
    },
    {
     "name": "stdout",
     "output_type": "stream",
     "text": [
      "Ask a question:  Country with highest bookings\n"
     ]
    },
    {
     "name": "stdout",
     "output_type": "stream",
     "text": [
      "Processing query: Country with highest bookings\n"
     ]
    },
    {
     "data": {
      "application/vnd.jupyter.widget-view+json": {
       "model_id": "3f112dd80de746c7bde415c488139bdd",
       "version_major": 2,
       "version_minor": 0
      },
      "text/plain": [
       "Batches:   0%|          | 0/1 [00:00<?, ?it/s]"
      ]
     },
     "metadata": {},
     "output_type": "display_data"
    },
    {
     "name": "stdout",
     "output_type": "stream",
     "text": [
      "Found 500 semantically relevant records\n",
      "\n",
      "Answer:\n",
      "Based on the provided data, the country with the highest bookings is Portugal, with 27519 bookings. This can be seen in the \"cancellation_by_country\" section of the analysis results, where Portugal has the highest total bookings.\n",
      "\n",
      "Retrieval Time: 10.2084 seconds\n",
      "\n",
      "--------------------------------------------------\n",
      "\n"
     ]
    },
    {
     "name": "stdout",
     "output_type": "stream",
     "text": [
      "Ask a question:  Number of Bookings with special requests\n"
     ]
    },
    {
     "name": "stdout",
     "output_type": "stream",
     "text": [
      "Processing query: Number of Bookings with special requests\n"
     ]
    },
    {
     "data": {
      "application/vnd.jupyter.widget-view+json": {
       "model_id": "3f1be2c0729b471b97c93eff0f56e60c",
       "version_major": 2,
       "version_minor": 0
      },
      "text/plain": [
       "Batches:   0%|          | 0/1 [00:00<?, ?it/s]"
      ]
     },
     "metadata": {},
     "output_type": "display_data"
    },
    {
     "name": "stdout",
     "output_type": "stream",
     "text": [
      "Found 500 semantically relevant records\n",
      "\n",
      "Answer:\n",
      "17699 bookings with special requests.\n",
      "\n",
      "The answer can be calculated by adding the number of bookings with special requests, which is 17699, to the total number of bookings, which is 40060.\n",
      "\n",
      "Total number of bookings: 40060 + 17699 = 57769.\n",
      "\n",
      "Retrieval Time: 9.4465 seconds\n",
      "\n",
      "--------------------------------------------------\n",
      "\n"
     ]
    },
    {
     "name": "stdout",
     "output_type": "stream",
     "text": [
      "Ask a question:  exit\n"
     ]
    }
   ],
   "source": [
    "def main():\n",
    "    # Path to your hotel bookings dataset\n",
    "    dataset_path = \"/kaggle/input/hotel-booking-demand/hotel_bookings.csv\"\n",
    "    \n",
    "    # Initialize the RAG system\n",
    "    print(\"Initializing RAG system...\")\n",
    "    rag = HotelBookingFaissRAG(dataset_path)\n",
    "    \n",
    "    # Interactive query loop\n",
    "    print(\"\\nHotel Booking RAG System Ready!\")\n",
    "    print(\"You can ask questions like:\")\n",
    "    print(\"- 'Show me total revenue for July 2017.'\")\n",
    "    print(\"- 'Which locations had the highest booking cancellations?'\")\n",
    "    print(\"- 'What is the average price of a hotel booking?'\")\n",
    "    print(\"Type 'exit' to quit.\\n\")\n",
    "    \n",
    "    while True:\n",
    "        query = input(\"Ask a question: \")\n",
    "        if query.lower() == 'exit':\n",
    "            break\n",
    "            \n",
    "        # Generate answer\n",
    "        answer = rag.generate_answer(query)\n",
    "        print(\"\\nAnswer:\")\n",
    "        print(answer)\n",
    "        print(\"\\n\" + \"-\"*50 + \"\\n\")\n",
    "\n",
    "if __name__ == \"__main__\":\n",
    "    main()"
   ]
  },
  {
   "cell_type": "markdown",
   "metadata": {},
   "source": [
    "# Hotel Booking RAG Evaluation\n",
    "\n",
    "| Metric | Expected Output | RAG Output | Result |\n",
    "|--------|----------------|------------|--------|\n",
    "| Total revenue for July 2017 | 3,132,959.07 | 3,132,959.07 | ✅ |\n",
    "| Cancellation rate for resort hotels | 27.76% | 28% | ✅ |\n",
    "| Country with highest bookings | PRT (48,590 bookings) | PRT (7,438) | ❌ |\n",
    "| Number of Bookings with special requests | 49,072 | 17,699 | ❌ |\n",
    "| Country with highest cancellations | PRT (27,519 cancellations) | United States (223 cancellations) | ❌ |\n",
    "| Percentage of repeat guests | 3.19% | 4.4% | ❌ |\n",
    "| Average price of a hotel booking | 101.83 | 101.83 | ✅ |\n",
    "\n",
    "**Score: 3/7 (42.86%)**"
   ]
  }
 ],
 "metadata": {
  "kaggle": {
   "accelerator": "nvidiaTeslaT4",
   "dataSources": [
    {
     "datasetId": 511638,
     "sourceId": 944030,
     "sourceType": "datasetVersion"
    }
   ],
   "dockerImageVersionId": 30918,
   "isGpuEnabled": true,
   "isInternetEnabled": true,
   "language": "python",
   "sourceType": "notebook"
  },
  "kernelspec": {
   "display_name": "Python 3",
   "language": "python",
   "name": "python3"
  },
  "language_info": {
   "codemirror_mode": {
    "name": "ipython",
    "version": 3
   },
   "file_extension": ".py",
   "mimetype": "text/x-python",
   "name": "python",
   "nbconvert_exporter": "python",
   "pygments_lexer": "ipython3",
   "version": "3.10.12"
  }
 },
 "nbformat": 4,
 "nbformat_minor": 4
}
